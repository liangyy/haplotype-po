{
 "cells": [
  {
   "cell_type": "code",
   "execution_count": 1,
   "metadata": {},
   "outputs": [],
   "source": [
    "import bgen_reader\n",
    "import pandas as pd"
   ]
  },
  {
   "cell_type": "code",
   "execution_count": 2,
   "metadata": {},
   "outputs": [],
   "source": [
    "filedir = '/vol/bmd/meliao/data/haplotype/hap/'\n",
    "chr_num = '22'"
   ]
  },
  {
   "cell_type": "code",
   "execution_count": 3,
   "metadata": {},
   "outputs": [
    {
     "name": "stdout",
     "output_type": "stream",
     "text": [
      "/vol/bmd/meliao/data/haplotype/link_files/ukb1952_v2_s487398.sample\r\n"
     ]
    }
   ],
   "source": [
    "! ls /vol/bmd/meliao/data/haplotype/link_files/ukb1952_v2_s487398.sample"
   ]
  },
  {
   "cell_type": "code",
   "execution_count": 4,
   "metadata": {},
   "outputs": [
    {
     "name": "stdout",
     "output_type": "stream",
     "text": [
      "We will create the metafile `/tmp/tmp66jc_llr/%vol%bmd%meliao%data%haplotype%hapukb_hap_chr22_v2.bgen.metadata`. This file will speed up further\n",
      "reads and only need to be created once. So, please, bear with me.\n"
     ]
    },
    {
     "name": "stderr",
     "output_type": "stream",
     "text": [
      "/vol/bmd/yanyul/miniconda3/envs/haplotype_po/lib/python3.7/site-packages/bgen_reader/_reader.py:135: UserWarning: You don't have permission to write to `/vol/bmd/meliao/data/haplotype/hap/ukb_hap_chr22_v2.bgen.metadata`.\n",
      "This might prevent speeding-up the reading process in future runs.\n",
      "\n",
      "  warnings.warn(_metafile_nowrite_dir.format(filepath=fp), UserWarning)\n",
      "Mapping variants: 100%|██████████| 10911/10911 [00:00<00:00, 67790.76it/s]\n"
     ]
    }
   ],
   "source": [
    "bgen = bgen_reader.read_bgen(f'{filedir}/ukb_hap_chr{chr_num}_v2.bgen') # , samples_filepath = '/vol/bmd/meliao/data/haplotype/link_files/ukb1952_v2_s487398.sample')"
   ]
  },
  {
   "cell_type": "code",
   "execution_count": 5,
   "metadata": {},
   "outputs": [
    {
     "data": {
      "text/plain": [
       "dict_keys(['variants', 'samples', 'genotype'])"
      ]
     },
     "execution_count": 5,
     "metadata": {},
     "output_type": "execute_result"
    }
   ],
   "source": [
    "bgen.keys()"
   ]
  },
  {
   "cell_type": "code",
   "execution_count": 6,
   "metadata": {},
   "outputs": [
    {
     "name": "stdout",
     "output_type": "stream",
     "text": [
      "0    A550484-4214737-041115-493_A01\n",
      "1    A550484-4214737-041115-493_A02\n",
      "2    A550484-4214737-041115-493_A03\n",
      "3    A550484-4214737-041115-493_A04\n",
      "4    A550484-4214737-041115-493_A05\n",
      "Name: id, dtype: object\n"
     ]
    }
   ],
   "source": [
    "print(bgen[\"samples\"].head())"
   ]
  },
  {
   "cell_type": "code",
   "execution_count": 7,
   "metadata": {},
   "outputs": [
    {
     "name": "stdout",
     "output_type": "stream",
     "text": [
      "            id         rsid chrom       pos  nalleles allele_ids     vaddr\n",
      "0   rs62224618   rs62224618        16057417         2        T,C  15609082\n",
      "1  rs116911124  rs116911124        16495833         2        A,C  15703485\n",
      "2  rs117578132  rs117578132        16595552         2        A,C  15784920\n",
      "3     rs131533     rs131533        16870425         2        T,C  15839358\n"
     ]
    }
   ],
   "source": [
    "print(bgen[\"variants\"].head(4))"
   ]
  },
  {
   "cell_type": "code",
   "execution_count": 8,
   "metadata": {},
   "outputs": [],
   "source": [
    "variant = bgen[\"variants\"].compute()"
   ]
  },
  {
   "cell_type": "code",
   "execution_count": 9,
   "metadata": {},
   "outputs": [],
   "source": [
    "geno = bgen[\"genotype\"][0].compute()"
   ]
  },
  {
   "cell_type": "code",
   "execution_count": 10,
   "metadata": {},
   "outputs": [
    {
     "data": {
      "text/plain": [
       "array([[1., 0., 0., 1.],\n",
       "       [0., 1., 0., 1.],\n",
       "       [0., 1., 0., 1.],\n",
       "       [0., 1., 0., 1.],\n",
       "       [1., 0., 0., 1.],\n",
       "       [0., 1., 0., 1.],\n",
       "       [0., 1., 0., 1.],\n",
       "       [0., 1., 0., 1.],\n",
       "       [0., 1., 0., 1.],\n",
       "       [0., 1., 0., 1.]])"
      ]
     },
     "execution_count": 10,
     "metadata": {},
     "output_type": "execute_result"
    }
   ],
   "source": [
    "geno['probs'][:10]"
   ]
  },
  {
   "cell_type": "code",
   "execution_count": 11,
   "metadata": {},
   "outputs": [
    {
     "name": "stdout",
     "output_type": "stream",
     "text": [
      "[1. 0. 0. 1.]\n",
      "[0. 1. 0. 1.]\n",
      "[0. 1. 0. 1.]\n",
      "[0. 1. 0. 1.]\n",
      "[0. 1. 0. 1.]\n",
      "[0. 1. 0. 1.]\n",
      "[0. 1. 0. 1.]\n",
      "[0. 1. 0. 1.]\n",
      "[0. 1. 0. 1.]\n",
      "[0. 1. 0. 1.]\n"
     ]
    }
   ],
   "source": [
    "for i in range(10):\n",
    "    geno = bgen[\"genotype\"][i].compute()\n",
    "    print(geno['probs'][0])"
   ]
  },
  {
   "cell_type": "markdown",
   "metadata": {},
   "source": [
    "I copy the first few lines of command: \n",
    "`~/labshare/softwares/from_bitbucket/gavinband-bgen-4e33223a8dc4/build/apps/bgenix -g /vol/bmd/meliao/data/haplotype/hap/ukb_hap_chr22_v2.bgen -i /vol/bmd/meliao/data/haplotype/hap_bgi/ukb_hap_chr22_v2.bgen.bgi -vcf `\n",
    "\n",
    "```\n",
    "##fileformat=VCFv4.2\n",
    "##FORMAT=<ID=GT,Type=String,Number=1,Description=\"Threshholded genotype call\">\n",
    "##FORMAT=<ID=GP,Type=Float,Number=G,Description=\"Genotype call probabilities\">\n",
    "##FORMAT=<ID=HP,Type=Float,Number=.,Description=\"Haplotype call probabilities\">\n",
    "#CHROM\tPOS\tID\tREF\tALT\tQUAL\tFILTER\tINFO\tFORMAT\tA550484-4214737-041115-493_A01\n",
    "\t16057417\trs62224618\tT\tC\t.\t.\t.\tGT:GP\t0|1:1,0,0,1\n",
    "\t16495833\trs116911124\tA\tC\t.\t.\t.\tGT:GP\t1|1:0,1,0,1\n",
    "\t16595552\trs117578132\tA\tC\t.\t.\t.\tGT:GP\t1|1:0,1,0,1\n",
    "\t16870425\trs131533\tT\tC\t.\t.\t.\tGT:GP\t1|1:0,1,0,1\n",
    "\t16880098\trs140380\tA\tG\t.\t.\t.\tGT:GP\t1|1:0,1,0,1\n",
    "\t16888577\trs1807483\tA\tG\t.\t.\t.\tGT:GP\t1|1:0,1,0,1\n",
    "\t16890136\trs13053962\tA\tG\t.\t.\t.\tGT:GP\t1|1:0,1,0,1\n",
    "```"
   ]
  },
  {
   "cell_type": "code",
   "execution_count": 12,
   "metadata": {},
   "outputs": [
    {
     "name": "stdout",
     "output_type": "stream",
     "text": [
      "\r\n",
      "gzip: stdout: Broken pipe\r\n",
      "\r\n",
      "16870425\r\n",
      "rs131533\r\n",
      "T\r\n",
      "C\r\n",
      ".\r\n",
      ".\r\n",
      ".\r\n",
      "GT:GP\r\n",
      "1|1:0,1,0,1\r\n",
      "1|1:0,1,0,1\r\n",
      "0|1:1,0,0,1\r\n",
      "1|1:0,1,0,1\r\n",
      "0|1:1,0,0,1\r\n",
      "0|1:1,0,0,1\r\n",
      "1|0:0,1,1,0\r\n",
      "0|1:1,0,0,1\r\n",
      "1|1:0,1,0,1\r\n",
      "0|0:1,0,1,0\r\n",
      "0|1:1,0,0,1\r\n",
      "1|0:0,1,1,0\r\n",
      "1|1:0,1,0,1\r\n",
      "1|0:0,1,1,0\r\n",
      "0|1:1,0,0,1\r\n",
      "1|1:0,1,0,1\r\n",
      "1|1:0,1,0,1\r\n",
      "1|1:0,1,0,1\r\n",
      "1|1:0,1,0,1\r\n",
      "0|0:1,0,1,0\r\n",
      "0|0:1,0,1,0\r\n"
     ]
    }
   ],
   "source": [
    "! zcat ../scripts/prepare_snp_map/ukb_hap_chr22_v2.vcf.gz |head -n 9|tail -n 1|cut -f 1-30| tr '\\t' '\\n'"
   ]
  },
  {
   "cell_type": "code",
   "execution_count": 13,
   "metadata": {},
   "outputs": [
    {
     "name": "stdout",
     "output_type": "stream",
     "text": [
      "id            rs131533\n",
      "rsid          rs131533\n",
      "chrom                 \n",
      "pos           16870425\n",
      "nalleles             2\n",
      "allele_ids         T,C\n",
      "vaddr         15839358\n",
      "Name: 3, dtype: object\n"
     ]
    },
    {
     "data": {
      "text/plain": [
       "array([[0., 1., 0., 1.],\n",
       "       [0., 1., 0., 1.],\n",
       "       [1., 0., 0., 1.],\n",
       "       [0., 1., 0., 1.],\n",
       "       [1., 0., 0., 1.],\n",
       "       [1., 0., 0., 1.],\n",
       "       [0., 1., 1., 0.],\n",
       "       [1., 0., 0., 1.],\n",
       "       [0., 1., 0., 1.],\n",
       "       [1., 0., 1., 0.],\n",
       "       [1., 0., 0., 1.],\n",
       "       [0., 1., 1., 0.]])"
      ]
     },
     "execution_count": 13,
     "metadata": {},
     "output_type": "execute_result"
    }
   ],
   "source": [
    "print(variant.iloc[3])\n",
    "geno = bgen[\"genotype\"][3].compute()\n",
    "geno['probs'][:12]"
   ]
  },
  {
   "cell_type": "markdown",
   "metadata": {},
   "source": [
    "The interpretation of phased BGEN is [here](https://www.well.ox.ac.uk/~gav/bgen_format/spec/latest.html) (in section \"Per-sample order of stored probabilities\").\n",
    "To see how the variant are labeled, I try one Neale's lab GWAS. "
   ]
  },
  {
   "cell_type": "code",
   "execution_count": 14,
   "metadata": {},
   "outputs": [],
   "source": [
    "# Don't run. It's been downloaded.\n",
    "# ! wget https://www.dropbox.com/s/m8qlfp0cjnn4ka7/20002_1065.gwas.imputed_v3.both_sexes.tsv.bgz?dl=0 -O 20002_1065.gwas.imputed_v3.both_sexes.tsv.bgz"
   ]
  },
  {
   "cell_type": "code",
   "execution_count": 15,
   "metadata": {},
   "outputs": [],
   "source": [
    "gwas = pd.read_csv('/vol/bmd/yanyul/UKB/haplotype_imputation/20002_1065.gwas.imputed_v3.both_sexes.tsv.bgz', header = 0, sep = '\\t', compression = 'gzip')"
   ]
  },
  {
   "cell_type": "code",
   "execution_count": 16,
   "metadata": {},
   "outputs": [
    {
     "data": {
      "text/html": [
       "<div>\n",
       "<style scoped>\n",
       "    .dataframe tbody tr th:only-of-type {\n",
       "        vertical-align: middle;\n",
       "    }\n",
       "\n",
       "    .dataframe tbody tr th {\n",
       "        vertical-align: top;\n",
       "    }\n",
       "\n",
       "    .dataframe thead th {\n",
       "        text-align: right;\n",
       "    }\n",
       "</style>\n",
       "<table border=\"1\" class=\"dataframe\">\n",
       "  <thead>\n",
       "    <tr style=\"text-align: right;\">\n",
       "      <th></th>\n",
       "      <th>variant</th>\n",
       "      <th>minor_allele</th>\n",
       "      <th>minor_AF</th>\n",
       "      <th>expected_case_minor_AC</th>\n",
       "      <th>low_confidence_variant</th>\n",
       "      <th>n_complete_samples</th>\n",
       "      <th>AC</th>\n",
       "      <th>ytx</th>\n",
       "      <th>beta</th>\n",
       "      <th>se</th>\n",
       "      <th>tstat</th>\n",
       "      <th>pval</th>\n",
       "    </tr>\n",
       "  </thead>\n",
       "  <tbody>\n",
       "    <tr>\n",
       "      <th>0</th>\n",
       "      <td>1:15791:C:T</td>\n",
       "      <td>T</td>\n",
       "      <td>5.429410e-09</td>\n",
       "      <td>0.001016</td>\n",
       "      <td>True</td>\n",
       "      <td>361141</td>\n",
       "      <td>0.003922</td>\n",
       "      <td>0.00000</td>\n",
       "      <td>-58.022600</td>\n",
       "      <td>108.453000</td>\n",
       "      <td>-0.535003</td>\n",
       "      <td>0.592648</td>\n",
       "    </tr>\n",
       "    <tr>\n",
       "      <th>1</th>\n",
       "      <td>1:69487:G:A</td>\n",
       "      <td>A</td>\n",
       "      <td>5.749750e-06</td>\n",
       "      <td>1.075890</td>\n",
       "      <td>True</td>\n",
       "      <td>361141</td>\n",
       "      <td>4.152940</td>\n",
       "      <td>1.01176</td>\n",
       "      <td>-0.080237</td>\n",
       "      <td>0.212433</td>\n",
       "      <td>-0.377706</td>\n",
       "      <td>0.705649</td>\n",
       "    </tr>\n",
       "    <tr>\n",
       "      <th>2</th>\n",
       "      <td>1:69569:T:C</td>\n",
       "      <td>C</td>\n",
       "      <td>1.877650e-04</td>\n",
       "      <td>35.134700</td>\n",
       "      <td>True</td>\n",
       "      <td>361141</td>\n",
       "      <td>135.620000</td>\n",
       "      <td>28.21960</td>\n",
       "      <td>-0.047870</td>\n",
       "      <td>0.038099</td>\n",
       "      <td>-1.256450</td>\n",
       "      <td>0.208952</td>\n",
       "    </tr>\n",
       "    <tr>\n",
       "      <th>3</th>\n",
       "      <td>1:139853:C:T</td>\n",
       "      <td>T</td>\n",
       "      <td>5.662880e-06</td>\n",
       "      <td>1.059640</td>\n",
       "      <td>True</td>\n",
       "      <td>361141</td>\n",
       "      <td>4.090200</td>\n",
       "      <td>1.00000</td>\n",
       "      <td>-0.078717</td>\n",
       "      <td>0.212440</td>\n",
       "      <td>-0.370537</td>\n",
       "      <td>0.710983</td>\n",
       "    </tr>\n",
       "    <tr>\n",
       "      <th>4</th>\n",
       "      <td>1:692794:CA:C</td>\n",
       "      <td>C</td>\n",
       "      <td>1.106370e-01</td>\n",
       "      <td>20702.300000</td>\n",
       "      <td>False</td>\n",
       "      <td>361141</td>\n",
       "      <td>79910.800000</td>\n",
       "      <td>20646.80000</td>\n",
       "      <td>-0.001313</td>\n",
       "      <td>0.001760</td>\n",
       "      <td>-0.746098</td>\n",
       "      <td>0.455609</td>\n",
       "    </tr>\n",
       "    <tr>\n",
       "      <th>...</th>\n",
       "      <td>...</td>\n",
       "      <td>...</td>\n",
       "      <td>...</td>\n",
       "      <td>...</td>\n",
       "      <td>...</td>\n",
       "      <td>...</td>\n",
       "      <td>...</td>\n",
       "      <td>...</td>\n",
       "      <td>...</td>\n",
       "      <td>...</td>\n",
       "      <td>...</td>\n",
       "      <td>...</td>\n",
       "    </tr>\n",
       "    <tr>\n",
       "      <th>13791462</th>\n",
       "      <td>X:154929412:C:T</td>\n",
       "      <td>T</td>\n",
       "      <td>2.454490e-01</td>\n",
       "      <td>45928.300000</td>\n",
       "      <td>False</td>\n",
       "      <td>361141</td>\n",
       "      <td>177283.000000</td>\n",
       "      <td>45683.90000</td>\n",
       "      <td>-0.001558</td>\n",
       "      <td>0.000964</td>\n",
       "      <td>-1.616370</td>\n",
       "      <td>0.106014</td>\n",
       "    </tr>\n",
       "    <tr>\n",
       "      <th>13791463</th>\n",
       "      <td>X:154929637:CT:C</td>\n",
       "      <td>C</td>\n",
       "      <td>2.296910e-01</td>\n",
       "      <td>42979.800000</td>\n",
       "      <td>False</td>\n",
       "      <td>361141</td>\n",
       "      <td>165902.000000</td>\n",
       "      <td>42652.20000</td>\n",
       "      <td>-0.002018</td>\n",
       "      <td>0.001006</td>\n",
       "      <td>-2.006290</td>\n",
       "      <td>0.044826</td>\n",
       "    </tr>\n",
       "    <tr>\n",
       "      <th>13791464</th>\n",
       "      <td>X:154929952:CAA:C</td>\n",
       "      <td>C</td>\n",
       "      <td>2.394150e-01</td>\n",
       "      <td>44799.300000</td>\n",
       "      <td>False</td>\n",
       "      <td>361141</td>\n",
       "      <td>172925.000000</td>\n",
       "      <td>44528.30000</td>\n",
       "      <td>-0.001892</td>\n",
       "      <td>0.001014</td>\n",
       "      <td>-1.867210</td>\n",
       "      <td>0.061873</td>\n",
       "    </tr>\n",
       "    <tr>\n",
       "      <th>13791465</th>\n",
       "      <td>X:154930230:A:G</td>\n",
       "      <td>G</td>\n",
       "      <td>2.458590e-01</td>\n",
       "      <td>46005.100000</td>\n",
       "      <td>False</td>\n",
       "      <td>361141</td>\n",
       "      <td>177579.000000</td>\n",
       "      <td>45739.70000</td>\n",
       "      <td>-0.001675</td>\n",
       "      <td>0.000963</td>\n",
       "      <td>-1.738350</td>\n",
       "      <td>0.082151</td>\n",
       "    </tr>\n",
       "    <tr>\n",
       "      <th>13791466</th>\n",
       "      <td>X:154930487:T:A</td>\n",
       "      <td>A</td>\n",
       "      <td>1.955900e-02</td>\n",
       "      <td>3659.880000</td>\n",
       "      <td>False</td>\n",
       "      <td>361141</td>\n",
       "      <td>14127.100000</td>\n",
       "      <td>3658.70000</td>\n",
       "      <td>-0.000723</td>\n",
       "      <td>0.003306</td>\n",
       "      <td>-0.218663</td>\n",
       "      <td>0.826913</td>\n",
       "    </tr>\n",
       "  </tbody>\n",
       "</table>\n",
       "<p>13791467 rows × 12 columns</p>\n",
       "</div>"
      ],
      "text/plain": [
       "                    variant minor_allele      minor_AF  \\\n",
       "0               1:15791:C:T            T  5.429410e-09   \n",
       "1               1:69487:G:A            A  5.749750e-06   \n",
       "2               1:69569:T:C            C  1.877650e-04   \n",
       "3              1:139853:C:T            T  5.662880e-06   \n",
       "4             1:692794:CA:C            C  1.106370e-01   \n",
       "...                     ...          ...           ...   \n",
       "13791462    X:154929412:C:T            T  2.454490e-01   \n",
       "13791463   X:154929637:CT:C            C  2.296910e-01   \n",
       "13791464  X:154929952:CAA:C            C  2.394150e-01   \n",
       "13791465    X:154930230:A:G            G  2.458590e-01   \n",
       "13791466    X:154930487:T:A            A  1.955900e-02   \n",
       "\n",
       "          expected_case_minor_AC  low_confidence_variant  n_complete_samples  \\\n",
       "0                       0.001016                    True              361141   \n",
       "1                       1.075890                    True              361141   \n",
       "2                      35.134700                    True              361141   \n",
       "3                       1.059640                    True              361141   \n",
       "4                   20702.300000                   False              361141   \n",
       "...                          ...                     ...                 ...   \n",
       "13791462            45928.300000                   False              361141   \n",
       "13791463            42979.800000                   False              361141   \n",
       "13791464            44799.300000                   False              361141   \n",
       "13791465            46005.100000                   False              361141   \n",
       "13791466             3659.880000                   False              361141   \n",
       "\n",
       "                     AC          ytx       beta          se     tstat  \\\n",
       "0              0.003922      0.00000 -58.022600  108.453000 -0.535003   \n",
       "1              4.152940      1.01176  -0.080237    0.212433 -0.377706   \n",
       "2            135.620000     28.21960  -0.047870    0.038099 -1.256450   \n",
       "3              4.090200      1.00000  -0.078717    0.212440 -0.370537   \n",
       "4          79910.800000  20646.80000  -0.001313    0.001760 -0.746098   \n",
       "...                 ...          ...        ...         ...       ...   \n",
       "13791462  177283.000000  45683.90000  -0.001558    0.000964 -1.616370   \n",
       "13791463  165902.000000  42652.20000  -0.002018    0.001006 -2.006290   \n",
       "13791464  172925.000000  44528.30000  -0.001892    0.001014 -1.867210   \n",
       "13791465  177579.000000  45739.70000  -0.001675    0.000963 -1.738350   \n",
       "13791466   14127.100000   3658.70000  -0.000723    0.003306 -0.218663   \n",
       "\n",
       "              pval  \n",
       "0         0.592648  \n",
       "1         0.705649  \n",
       "2         0.208952  \n",
       "3         0.710983  \n",
       "4         0.455609  \n",
       "...            ...  \n",
       "13791462  0.106014  \n",
       "13791463  0.044826  \n",
       "13791464  0.061873  \n",
       "13791465  0.082151  \n",
       "13791466  0.826913  \n",
       "\n",
       "[13791467 rows x 12 columns]"
      ]
     },
     "execution_count": 16,
     "metadata": {},
     "output_type": "execute_result"
    }
   ],
   "source": [
    "gwas"
   ]
  },
  {
   "cell_type": "markdown",
   "metadata": {},
   "source": [
    "OK. It turns out that the latest GWASs from Neale's lab dropped rsID column. \n",
    "But luckily, Neale's lab GWASs used a more information labeling system for variant: `chromosome:position:allele1:allele2`.\n",
    "I believe that the order of `allele1` and `allele2` follows the imputed genotype BGEN files shared by UK Biobank.\n",
    "At this point, without digging into more details, I don't know how the alleles got ordered but it is not a problem for our purpose. \n",
    "\n",
    "To facilitate the later use, the plan is to build the variant ID map table in one shot and to apply the same map downstream.\n",
    "The followings are some quick scripts to map variants in phased genotype files to the Neale's lab GWAS."
   ]
  },
  {
   "cell_type": "code",
   "execution_count": 17,
   "metadata": {},
   "outputs": [],
   "source": [
    "def make_id(x):\n",
    "    return '{chr_}:{pos}:{a1}:{a2}'.format(chr_=x[0], pos=x[1], a1=x[2], a2=x[3])\n",
    "def join_with_varid(candidate_id1, candidate_id2, id_pool):\n",
    "    df = pd.DataFrame({\n",
    "        'id1': candidate_id1,\n",
    "        'id2': candidate_id2\n",
    "    })\n",
    "    pool = pd.Series(id_pool)\n",
    "    df['id1_check'] = df['id1'].isin(pool)\n",
    "    df['id2_check'] = df['id2'].isin(pool)\n",
    "    df['check_combine'] = df[['id1_check', 'id2_check']].apply(lambda x: x.sum(), axis=1)\n",
    "    df['assigned_id'] = df[['id1', 'id2', 'id1_check', 'id2_check', 'check_combine']].apply(lambda x: _assign_id(x), axis=1)\n",
    "    return df\n",
    "def _assign_id(x):\n",
    "    if x.check_combine == 2:\n",
    "        return 'ambiguious'\n",
    "    if x.check_combine == 0:\n",
    "        return 'not_shown'\n",
    "    if x.id1_check is True:\n",
    "        return x.id1\n",
    "    if x.id2_check is True:\n",
    "        return x.id2"
   ]
  },
  {
   "cell_type": "code",
   "execution_count": 18,
   "metadata": {},
   "outputs": [],
   "source": [
    "variant['chrom'] = chr_num\n",
    "variant['allele_1st'] = variant['allele_ids'].apply(lambda x: x.split(',')[0])\n",
    "variant['allele_2nd'] = variant['allele_ids'].apply(lambda x: x.split(',')[1])\n",
    "variant['varid1'] = variant[['chrom', 'pos', 'allele_1st', 'allele_2nd']].apply(lambda x: make_id(x), axis=1)\n",
    "variant['varid2'] = variant[['chrom', 'pos', 'allele_2nd', 'allele_1st']].apply(lambda x: make_id(x), axis=1)"
   ]
  },
  {
   "cell_type": "code",
   "execution_count": 19,
   "metadata": {},
   "outputs": [],
   "source": [
    "variant_check = join_with_varid(variant['varid1'], variant['varid2'], gwas['variant'])"
   ]
  },
  {
   "cell_type": "code",
   "execution_count": 20,
   "metadata": {},
   "outputs": [],
   "source": [
    "variant = pd.merge(variant, variant_check, left_on=['varid1', 'varid2'], right_on=['id1', 'id2'], how='left')"
   ]
  },
  {
   "cell_type": "markdown",
   "metadata": {},
   "source": [
    "The workflow shown here is wrapped up as a one-shot Python script at `scripts/prepare_snp_map`."
   ]
  }
 ],
 "metadata": {
  "kernelspec": {
   "display_name": "Python 3",
   "language": "python",
   "name": "python3"
  },
  "language_info": {
   "codemirror_mode": {
    "name": "ipython",
    "version": 3
   },
   "file_extension": ".py",
   "mimetype": "text/x-python",
   "name": "python",
   "nbconvert_exporter": "python",
   "pygments_lexer": "ipython3",
   "version": "3.7.6"
  }
 },
 "nbformat": 4,
 "nbformat_minor": 4
}
