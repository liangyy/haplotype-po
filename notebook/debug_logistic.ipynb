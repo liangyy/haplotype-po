{
 "cells": [
  {
   "cell_type": "code",
   "execution_count": 61,
   "metadata": {},
   "outputs": [],
   "source": [
    "import numpy as np\n",
    "import h5py\n",
    "import sys\n",
    "sys.path.insert(0, '../scripts/logistic_gpu/')\n",
    "import logistic_gpu\n",
    "import imp\n",
    "logistic_gpu = imp.reload(logistic_gpu)\n",
    "import torch"
   ]
  },
  {
   "cell_type": "code",
   "execution_count": 4,
   "metadata": {},
   "outputs": [],
   "source": [
    "y = np.load('../scripts/logistic_gpu/cached_y.npy')\n",
    "indiv_index = np.load('../scripts/logistic_gpu/cached_indiv_index.npy')\n",
    "C = np.load('../scripts/logistic_gpu/cached_covar.npy')\n",
    "z = np.load('../scripts/logistic_gpu/cached_z.npy')\n"
   ]
  },
  {
   "cell_type": "code",
   "execution_count": 5,
   "metadata": {},
   "outputs": [],
   "source": [
    "# failed at 151/238"
   ]
  },
  {
   "cell_type": "code",
   "execution_count": 25,
   "metadata": {},
   "outputs": [],
   "source": [
    "step_size = 100\n",
    "with h5py.File('/vol/bmd/yanyul/UKB/ukb_hap_v2_to_hdf5/ukb_hap_v2_to_hdf5.chr16.h5', 'r') as f:\n",
    "    genotype = f['genotype'][:, (151 * step_size) : (152 * step_size), :]\n",
    "    "
   ]
  },
  {
   "cell_type": "code",
   "execution_count": 26,
   "metadata": {},
   "outputs": [],
   "source": [
    "genotype = genotype[:, :, indiv_index]"
   ]
  },
  {
   "cell_type": "code",
   "execution_count": 27,
   "metadata": {},
   "outputs": [],
   "source": [
    "h1 = genotype[0, :, :].T\n",
    "h2 = genotype[1, :, :].T"
   ]
  },
  {
   "cell_type": "code",
   "execution_count": 62,
   "metadata": {},
   "outputs": [],
   "source": [
    "solver = logistic_gpu.BatchLogisticSolver()"
   ]
  },
  {
   "cell_type": "code",
   "execution_count": 72,
   "metadata": {},
   "outputs": [
    {
     "name": "stdout",
     "output_type": "stream",
     "text": [
      "0 tensor(0.) tensor(1.)\n",
      "1 tensor(0.5000) tensor(0.5000)\n",
      "2 tensor(0.2513) tensor(0.1172)\n",
      "3 tensor(0.2312) tensor(0.0408)\n",
      "4 tensor(0.2836) tensor(0.0148)\n",
      "5 tensor(0.2836) tensor(0.0054)\n",
      "6 tensor(0.2836) tensor(0.0020)\n",
      "7 tensor(0.2836) tensor(0.0007)\n",
      "8 tensor(0.2836) tensor(0.0003)\n",
      "9 tensor(0.2836) tensor(9.8586e-05)\n",
      "10 tensor(0.2836) tensor(3.6240e-05)\n",
      "11 tensor(0.2836) tensor(1.3351e-05)\n",
      "12 tensor(0.2836) tensor(4.8876e-06)\n",
      "13 tensor(0.2836) tensor(1.7881e-06)\n",
      "14 tensor(0.2836) tensor(7.1526e-07)\n",
      "15 tensor(0.2836) tensor(2.3842e-07)\n",
      "16 tensor(0.2836) tensor(1.1921e-07)\n",
      "tensor(99)\n",
      "tensor(99)\n"
     ]
    }
   ],
   "source": [
    "o1 = solver.batchIRLS(\n",
    "    torch.Tensor(h1 + h2) / 2,\n",
    "    torch.Tensor(y)[:, 0],\n",
    "    torch.Tensor(C),\n",
    "    min_prob=1e-7,\n",
    "    use_mask=True\n",
    ")"
   ]
  },
  {
   "cell_type": "code",
   "execution_count": 67,
   "metadata": {},
   "outputs": [
    {
     "data": {
      "text/plain": [
       "(array([80]),)"
      ]
     },
     "execution_count": 67,
     "metadata": {},
     "output_type": "execute_result"
    }
   ],
   "source": [
    "np.where(o1[1][1] < 0)"
   ]
  },
  {
   "cell_type": "code",
   "execution_count": 69,
   "metadata": {},
   "outputs": [],
   "source": [
    "sanity_sum_o = np.load('../scripts/logistic_gpu/test_sanity_sum.npy')"
   ]
  },
  {
   "cell_type": "code",
   "execution_count": 108,
   "metadata": {},
   "outputs": [
    {
     "data": {
      "text/plain": [
       "array([0., 0., 0.], dtype=float32)"
      ]
     },
     "execution_count": 108,
     "metadata": {},
     "output_type": "execute_result"
    }
   ],
   "source": [
    "sanity_sum_o[:, 0, (151 * step_size) + 80]"
   ]
  },
  {
   "cell_type": "code",
   "execution_count": 80,
   "metadata": {},
   "outputs": [],
   "source": [
    "o2 = sanity_sum_o[:, 0, (151 * step_size)  : (152 * step_size)]"
   ]
  },
  {
   "cell_type": "code",
   "execution_count": 107,
   "metadata": {},
   "outputs": [
    {
     "data": {
      "text/plain": [
       "tensor([1.9999, 2.0001, 2.0000, 2.0000, 2.0000, 2.0001, 2.0000, 2.0000, 2.0000,\n",
       "        2.0000, 1.9999, 2.0000, 2.0000, 2.0000, 2.0000, 2.0001, 2.0000, 2.0000,\n",
       "        2.0000, 2.0000, 2.0000, 2.0000, 2.0000, 2.0001, 2.0000, 2.0000, 2.0000,\n",
       "        2.0000, 2.0000, 2.0000, 1.9998, 2.0001, 1.9999, 2.0000, 2.0000, 2.0003,\n",
       "        2.0000, 2.0000, 2.0000, 2.0000, 2.0000, 2.0000, 2.0000, 2.0000, 2.0000,\n",
       "        2.0000, 2.0000, 1.9998, 2.0000, 2.0000, 2.0000, 2.0000, 2.0000, 2.0000,\n",
       "        2.0000, 2.0000, 2.0000, 2.0000, 2.0000, 2.0001, 1.9999, 2.0000, 2.0000,\n",
       "        2.0000, 2.0000, 2.0000, 2.0000, 2.0001, 2.0000, 2.0000, 2.0000, 2.0000,\n",
       "        2.0001, 2.0000, 2.0000, 2.0000])"
      ]
     },
     "execution_count": 107,
     "metadata": {},
     "output_type": "execute_result"
    }
   ],
   "source": [
    "o1[0][-1][o2[2] == 1] / torch.Tensor(o2[0][o2[2] == 1])"
   ]
  },
  {
   "cell_type": "code",
   "execution_count": 103,
   "metadata": {},
   "outputs": [
    {
     "data": {
      "text/plain": [
       "tensor([-9.3546e-03, -6.7488e-01, -3.5434e-03,  2.1237e-02, -2.0741e-03,\n",
       "         1.6016e-02,  2.7786e-03,  4.2543e-02, -3.5270e-02,  3.0130e-02,\n",
       "        -3.0738e-02, -8.0485e-02,  6.1978e-04,  1.0003e-01,  3.7623e-02,\n",
       "         6.0890e-02, -4.9444e-02, -4.2904e-02,  1.3752e-02, -8.0676e-03,\n",
       "        -7.3872e-02, -1.5683e-02,  1.1558e-02,  2.0010e-02,  2.9902e-02,\n",
       "        -8.5903e-02,  3.3020e-02,  2.1279e-02,  1.6756e-02,  2.1755e-02,\n",
       "         2.1025e-02, -9.8523e-03,  2.8137e-02, -1.5432e-01, -2.4284e-02,\n",
       "        -1.0043e-02, -1.1861e-03,  1.8086e-02,  1.6840e-02, -6.0068e-02,\n",
       "         4.1041e-02,  1.2430e-02, -4.1000e-03, -3.7367e-02,  1.7676e-02,\n",
       "        -1.0711e-01, -1.0975e-01,  7.3174e-03,  1.7799e-02, -2.4378e-02,\n",
       "         1.3596e-02, -9.0767e-03,  3.8524e-02,  1.5505e-02,  1.5152e-02,\n",
       "         3.1329e-01,  1.8470e-03,  3.0215e-01, -8.0245e-02,  2.4947e-02,\n",
       "         2.9417e-02,  3.0454e-02, -6.6132e-01,  5.5379e-02,  4.1905e-02,\n",
       "         2.1524e-01,  1.5753e-02, -4.2224e-02, -1.8766e-01, -4.4445e-02,\n",
       "        -2.0188e-02, -1.5910e-01,  2.2253e-02,  1.2632e-02, -3.0873e-02,\n",
       "        -9.4319e-03,  2.1836e-02, -2.6410e-03,  5.3295e-03,  3.9581e-02,\n",
       "        -5.6475e-02, -1.5394e-02,  1.0539e-01, -5.4097e-02, -4.6255e-02,\n",
       "         7.5597e-02, -2.6148e-03, -2.3155e-02, -2.4008e-02, -1.0244e-02,\n",
       "        -2.3319e-02,  1.0375e-03,  1.1958e-02,  4.8914e-03,  8.7142e-02,\n",
       "        -1.9563e-02, -2.7146e-01, -3.6556e-01,  5.0653e-02])"
      ]
     },
     "execution_count": 103,
     "metadata": {},
     "output_type": "execute_result"
    }
   ],
   "source": [
    "o1[0][-1][o1[2] == 1] "
   ]
  },
  {
   "cell_type": "code",
   "execution_count": 105,
   "metadata": {},
   "outputs": [
    {
     "data": {
      "text/plain": [
       "tensor([-0.0047,  0.0000, -0.0018,  0.0106, -0.0010,  0.0080,  0.0014,  0.0213,\n",
       "        -0.0176,  0.0151,  0.0000, -0.0402,  0.0003,  0.0000,  0.0188,  0.0304,\n",
       "        -0.0247, -0.0215,  0.0069, -0.0040, -0.0369, -0.0078,  0.0058,  0.0100,\n",
       "         0.0150,  0.0000,  0.0165,  0.0106,  0.0084,  0.0109,  0.0105, -0.0049,\n",
       "         0.0000,  0.0000, -0.0121, -0.0050, -0.0006,  0.0090,  0.0084,  0.0000,\n",
       "         0.0205,  0.0062, -0.0020, -0.0187,  0.0088,  0.0000, -0.0549,  0.0037,\n",
       "         0.0089, -0.0122,  0.0068, -0.0045,  0.0193,  0.0078,  0.0076,  0.0000,\n",
       "         0.0009,  0.0000,  0.0000,  0.0125,  0.0147,  0.0152,  0.0000,  0.0277,\n",
       "         0.0210,  0.0000,  0.0079, -0.0211,  0.0000, -0.0222,  0.0000,  0.0000,\n",
       "         0.0000,  0.0063, -0.0154,  0.0000,  0.0109, -0.0013,  0.0027,  0.0198,\n",
       "        -0.0282, -0.0077,  0.0000, -0.0270, -0.0231,  0.0378, -0.0013,  0.0000,\n",
       "        -0.0120, -0.0051, -0.0117,  0.0000,  0.0060,  0.0024,  0.0436, -0.0098,\n",
       "         0.0000,  0.0000,  0.0253])"
      ]
     },
     "execution_count": 105,
     "metadata": {},
     "output_type": "execute_result"
    }
   ],
   "source": [
    "torch.Tensor(o2[0][o1[2] == 1])"
   ]
  },
  {
   "cell_type": "code",
   "execution_count": 97,
   "metadata": {},
   "outputs": [
    {
     "data": {
      "text/plain": [
       "torch.Size([99])"
      ]
     },
     "execution_count": 97,
     "metadata": {},
     "output_type": "execute_result"
    }
   ],
   "source": [
    "torch.Tensor(o2[0][o1[2] == 1]).shape"
   ]
  },
  {
   "cell_type": "code",
   "execution_count": 101,
   "metadata": {},
   "outputs": [
    {
     "data": {
      "text/plain": [
       "torch.Size([99])"
      ]
     },
     "execution_count": 101,
     "metadata": {},
     "output_type": "execute_result"
    }
   ],
   "source": [
    "o1[0][-1][o1[2] == 1] .shape"
   ]
  },
  {
   "cell_type": "code",
   "execution_count": 100,
   "metadata": {},
   "outputs": [
    {
     "data": {
      "text/plain": [
       "torch.Size([12, 100])"
      ]
     },
     "execution_count": 100,
     "metadata": {},
     "output_type": "execute_result"
    }
   ],
   "source": [
    "o1[0].shape"
   ]
  },
  {
   "cell_type": "code",
   "execution_count": 106,
   "metadata": {},
   "outputs": [
    {
     "data": {
      "text/plain": [
       "array([1., 0., 1., 1., 1., 1., 1., 1., 1., 1., 0., 1., 1., 0., 1., 1., 1.,\n",
       "       1., 1., 1., 1., 1., 1., 1., 1., 0., 1., 1., 1., 1., 1., 1., 0., 0.,\n",
       "       1., 1., 1., 1., 1., 0., 1., 1., 1., 1., 1., 0., 1., 1., 1., 1., 1.,\n",
       "       1., 1., 1., 1., 0., 1., 0., 0., 1., 1., 1., 0., 1., 1., 0., 1., 1.,\n",
       "       0., 1., 0., 0., 0., 1., 1., 0., 1., 1., 1., 1., 0., 1., 1., 0., 1.,\n",
       "       1., 1., 1., 0., 1., 1., 1., 0., 1., 1., 1., 1., 0., 0., 1.],\n",
       "      dtype=float32)"
      ]
     },
     "execution_count": 106,
     "metadata": {},
     "output_type": "execute_result"
    }
   ],
   "source": [
    "o2[2]"
   ]
  }
 ],
 "metadata": {
  "kernelspec": {
   "display_name": "Python 3",
   "language": "python",
   "name": "python3"
  },
  "language_info": {
   "codemirror_mode": {
    "name": "ipython",
    "version": 3
   },
   "file_extension": ".py",
   "mimetype": "text/x-python",
   "name": "python",
   "nbconvert_exporter": "python",
   "pygments_lexer": "ipython3",
   "version": "3.7.6"
  }
 },
 "nbformat": 4,
 "nbformat_minor": 4
}
