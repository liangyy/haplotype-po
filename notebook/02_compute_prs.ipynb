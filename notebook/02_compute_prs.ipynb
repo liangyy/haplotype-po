{
 "cells": [
  {
   "cell_type": "code",
   "execution_count": 1,
   "metadata": {},
   "outputs": [],
   "source": [
    "import bgen_reader\n",
    "import pandas as pd\n",
    "import numpy as np\n",
    "from tqdm import tqdm\n",
    "from rpy2.robjects.packages import importr\n",
    "rbgen = importr(\"rbgen\")\n",
    "import rpy2.robjects as ro\n",
    "import rpy2.rlike.container as rlc\n",
    "from rpy2.robjects import pandas2ri\n",
    "pandas2ri.activate()"
   ]
  },
  {
   "cell_type": "markdown",
   "metadata": {},
   "source": [
    "# Load data"
   ]
  },
  {
   "cell_type": "code",
   "execution_count": 2,
   "metadata": {},
   "outputs": [],
   "source": [
    "filedir = '/vol/bmd/meliao/data/haplotype/hap/'\n",
    "chr_num = '16'\n",
    "gwas_name = '20002_1081.gwas.imputed_v3.male'"
   ]
  },
  {
   "cell_type": "code",
   "execution_count": 3,
   "metadata": {},
   "outputs": [],
   "source": [
    "# bgen = bgen_reader.read_bgen(\n",
    "#     f'{filedir}/ukb_hap_chr{chr_num}_v2.bgen', \n",
    "#     samples_filepath='/vol/bmd/meliao/data/haplotype/link_files/ukb1952_v2_s487398.sample',\n",
    "#     metafile_filepath=f'/vol/bmd/yanyul/UKB/ukb_hap_bgen_reader_metafile/ukb_hap_v2.chr{chr_num}.metafile'\n",
    "# )"
   ]
  },
  {
   "cell_type": "code",
   "execution_count": 4,
   "metadata": {},
   "outputs": [],
   "source": [
    "gwas = pd.read_csv(\n",
    "    f'/vol/bmd/yanyul/UKB/neale_lab_gwas/{gwas_name}.tsv.bgz', \n",
    "    header = 0, \n",
    "    sep = '\\t', \n",
    "    compression = 'gzip'\n",
    ")"
   ]
  },
  {
   "cell_type": "code",
   "execution_count": 5,
   "metadata": {},
   "outputs": [],
   "source": [
    "snp_map = pd.read_csv(\n",
    "    '/vol/bmd/yanyul/UKB/haplotype_imputation/snp_map_for_neale_lab_gwas.with_sign.tsv.gz',\n",
    "    sep='\\t',\n",
    "    header=0,\n",
    "    compression='gzip',\n",
    "    dtype={3:'str'}\n",
    ")"
   ]
  },
  {
   "cell_type": "markdown",
   "metadata": {},
   "source": [
    "# Workflow\n",
    "\n",
    "1. **In GWAS**, extract variants that occur in my genotype.\n",
    "2. **In GWAS**, perform LD clumping.\n",
    "3. Calculate PRS."
   ]
  },
  {
   "cell_type": "markdown",
   "metadata": {},
   "source": [
    "## Extract variants"
   ]
  },
  {
   "cell_type": "code",
   "execution_count": 6,
   "metadata": {},
   "outputs": [],
   "source": [
    "# # don't run\n",
    "# snp_map = snp_map[ (snp_map['assigned_id'] != 'not_shown') & (snp_map['assigned_id'] != 'ambiguious') ]"
   ]
  },
  {
   "cell_type": "code",
   "execution_count": 7,
   "metadata": {},
   "outputs": [],
   "source": [
    "# # don't run\n",
    "# # extract variants from GWAS\n",
    "# gwas_sub = gwas[ gwas['variant'].isin(snp_map['assigned_id']) ]"
   ]
  },
  {
   "cell_type": "markdown",
   "metadata": {},
   "source": [
    "## LD clump by `plink`"
   ]
  },
  {
   "cell_type": "markdown",
   "metadata": {},
   "source": [
    "## Naive PRS"
   ]
  },
  {
   "cell_type": "code",
   "execution_count": 8,
   "metadata": {},
   "outputs": [],
   "source": [
    "variant_annot = snp_map"
   ]
  },
  {
   "cell_type": "code",
   "execution_count": 9,
   "metadata": {},
   "outputs": [],
   "source": [
    "ld_clump = pd.read_csv(\n",
    "    f'/vol/bmd/yanyul/UKB/haplotype_imputation/ld_clump/tmp_{gwas_name}/gwas_clump_x_chr{chr_num}.valid.snp',\n",
    "    header=None\n",
    ")"
   ]
  },
  {
   "cell_type": "code",
   "execution_count": 10,
   "metadata": {},
   "outputs": [],
   "source": [
    "gwas_x_ld_clump = gwas[ gwas['variant'].isin(ld_clump[0] )]"
   ]
  },
  {
   "cell_type": "code",
   "execution_count": 11,
   "metadata": {},
   "outputs": [],
   "source": [
    "variant_annot = pd.merge(\n",
    "    variant_annot, \n",
    "    gwas_x_ld_clump, \n",
    "    left_on=['assigned_id'], \n",
    "    right_on='variant',\n",
    "    how='inner'\n",
    ")"
   ]
  },
  {
   "cell_type": "code",
   "execution_count": 12,
   "metadata": {},
   "outputs": [],
   "source": [
    "variant_annot = variant_annot.sort_values(\n",
    "    by=['pos']\n",
    ").reset_index()"
   ]
  },
  {
   "cell_type": "code",
   "execution_count": 13,
   "metadata": {},
   "outputs": [],
   "source": [
    "variant_annot['signed_beta'] = variant_annot[['assigned_sign', 'beta']].apply(lambda x: x.beta if x.assigned_sign == '+' else -x.beta, axis=1)"
   ]
  },
  {
   "cell_type": "code",
   "execution_count": 36,
   "metadata": {},
   "outputs": [],
   "source": [
    "from rpy2.robjects import pandas2ri\n",
    "pandas2ri.activate()\n",
    "import gc\n",
    "\n",
    "class UKBhapReader:\n",
    "    '''\n",
    "    Reader of BGEN for one chromosome of ukb_hap.\n",
    "    '''\n",
    "    def __init__(self, bgen_path, bgen_bgi_path, sample_path):\n",
    "        self.rbgen = importr(\"rbgen\")\n",
    "        self.bgen_path = bgen_path\n",
    "        self.bgi_path = bgen_bgi_path\n",
    "        self.sample_path = sample_path\n",
    "        \n",
    "    def extract_variant_by_position(self, chrom, start, end, max_entries_per_sample=4):\n",
    "        '''\n",
    "        max_entries_per_sample: number of entries per sample in BGEN\n",
    "        '''\n",
    "        range_pd = pd.DataFrame(\n",
    "            {\n",
    "                'chromosome': [ chrom ],\n",
    "                'start': [start],\n",
    "                'end': [end]\n",
    "            }\n",
    "        )\n",
    "#         breakpoint()\n",
    "        cached_data = self.rbgen.bgen_load(\n",
    "            self.bgen_path,\n",
    "            index_filename=self.bgi_path,\n",
    "            ranges=range_pd, \n",
    "            max_entries_per_sample=4\n",
    "        )\n",
    "        return cached_data\n",
    "    \n",
    "    @staticmethod\n",
    "    def _get_varid(chrm, pos, a1, a2):\n",
    "        return f'{chrm}:{pos}:{a1}:{a2}'\n",
    "    \n",
    "    @staticmethod\n",
    "    def _check_ncol(mat, ncol):\n",
    "        '''\n",
    "        check if mat has expected number of columns\n",
    "        '''\n",
    "        if mat.shape[1] != ncol:\n",
    "            raise ValueError(f'ukb_hap does not have {ncol} columns.')\n",
    "    \n",
    "    def _hap_to_count(self, hap):\n",
    "        '''\n",
    "        expect hap has two columns.\n",
    "        '''\n",
    "        self._check_ncol(hap, 2)\n",
    "        colsum = np.sum(hap, axis=1)\n",
    "        if (colsum != 1).sum() > 0:\n",
    "            raise ValueError('some rows have colsum != 1 which is not allowed.')\n",
    "        return hap[:,1]\n",
    "    \n",
    "    @staticmethod\n",
    "    def _next_pos(curr_pos, max_pos, n_jump):\n",
    "        next_pos = min(curr_pos + n_jump, max_pos)\n",
    "        return next_pos\n",
    "    \n",
    "    def ukb_hap_to_haplo(self, ukb_hap):\n",
    "        '''\n",
    "        expect ukb_hap has 4 columns\n",
    "        ukb hap encoding law:\n",
    "            0,1,0,1 -> 1|1\n",
    "            0,1,1,0 -> 1|0\n",
    "            1,0,0,1 -> 0|1\n",
    "            1,0,1,0 -> 0|0\n",
    "        i.e. the 1st, 2nd columns encode haplotype 1 and \n",
    "        the 3rd, 4th columns encode haplotype 2.\n",
    "        And 0,1->1; 1,0->0. \n",
    "        Other combinations are not allowed.\n",
    "        '''\n",
    "        self._check_ncol(ukb_hap, 4)\n",
    "        return self._hap_to_count(ukb_hap[:, :2]), self._hap_to_count(ukb_hap[:, 2:])\n",
    "    \n",
    "    def retrieve_from_list(self, chrom, pos, non_effect_allele, effect_allele, \n",
    "                           n_var_cached=10, max_entries_per_sample=4):\n",
    "        '''\n",
    "        Retrieve generator of variants.\n",
    "        '''\n",
    "        niter = 0\n",
    "        snp_list = pd.DataFrame({\n",
    "            'chr': chrom,\n",
    "            'pos': pos,\n",
    "            'non_effect_allele': non_effect_allele,\n",
    "            'effect_allele': effect_allele\n",
    "        })\n",
    "        # sort by position so that we can retrive by left to right.\n",
    "        snp_list = snp_list.sort_values('pos').reset_index()\n",
    "        # set desired variant id \n",
    "        set_snp_list = set(\n",
    "            snp_list.apply(\n",
    "                lambda x: self._get_varid(x.chr, x.pos, x.non_effect_allele, x.effect_allele),\n",
    "                axis=1\n",
    "            ).tolist()\n",
    "        )\n",
    "        nsnp = snp_list.shape[0]\n",
    "        curr_pos_in_snp_list = 0\n",
    "        next_pos_in_snp_list = 0\n",
    "        while next_pos_in_snp_list < nsnp:\n",
    "            # modified from \n",
    "            # https://github.com/liangyy/predixcan_prediction/blob/a85d52d89de9fe237a1217b5627c7e8d9f700f7e/bgen/bgen_dosage.py#L80\n",
    "            next_pos_in_snp_list = self._next_pos(curr_pos_in_snp_list, nsnp, n_var_cached)\n",
    "            if niter > 0:\n",
    "                cached_data_struct = cached_data.__sexp__\n",
    "                del cached_data\n",
    "                del cached_data_struct\n",
    "                gc.collect()\n",
    "            cached_data = self.extract_variant_by_position(\n",
    "                chrom=snp_list.chr[curr_pos_in_snp_list], \n",
    "                start=snp_list.pos[curr_pos_in_snp_list], \n",
    "                end=snp_list.pos[next_pos_in_snp_list - 1]\n",
    "            )\n",
    "            all_variants = pandas2ri.ri2py(cached_data[0])\n",
    "            if all_variants.shape[0] == 0:\n",
    "                return\n",
    "            all_variants['my_var_id'] = all_variants.apply(\n",
    "                lambda x: self._get_varid(x.chromosome, x.position, x.allele0, x.allele1),\n",
    "                axis=1\n",
    "            )\n",
    "            all_probs = pandas2ri.ri2py(cached_data[4])\n",
    "            niter += 1\n",
    "            for row_idx, (rsid, row) in enumerate(all_variants.iterrows()):\n",
    "                if row.my_var_id in set_snp_list:\n",
    "                    dosage_row = row.rename({'chromosome': 'chr'})\n",
    "                    h1, h2 = self.ukb_hap_to_haplo(all_probs[row_idx, :, :])\n",
    "                    dosage_row['haplo_dosage_1'] = h1\n",
    "                    dosage_row['haplo_dosage_2'] = h2\n",
    "                    yield dosage_row"
   ]
  },
  {
   "cell_type": "code",
   "execution_count": null,
   "metadata": {},
   "outputs": [],
   "source": [
    "# class LDclumpPRSmodel:\n",
    "#     def __init__(self, gwas_file, ld_clump, var_col, chr_col, pos_col, ea_col, nea_col, pval_col, beta_col):\n",
    "#     def annot_with_snp_map(self, snp_map_df):\n",
    "        \n",
    "        "
   ]
  },
  {
   "cell_type": "code",
   "execution_count": 37,
   "metadata": {},
   "outputs": [],
   "source": [
    "reader = UKBhapReader(\n",
    "    bgen_path=f'{filedir}/ukb_hap_chr{chr_num}_v2.bgen', \n",
    "    bgen_bgi_path=f'/vol/bmd/meliao/data/haplotype/hap_bgi/ukb_hap_chr{chr_num}_v2.bgen.bgi', \n",
    "    sample_path=''\n",
    ")"
   ]
  },
  {
   "cell_type": "code",
   "execution_count": 38,
   "metadata": {},
   "outputs": [
    {
     "name": "stderr",
     "output_type": "stream",
     "text": [
      "/vol/bmd/yanyul/miniconda3/envs/haplotype_po/lib/python3.7/site-packages/ipykernel_launcher.py:7: FutureWarning: Sorting because non-concatenation axis is not aligned. A future version\n",
      "of pandas will change to not sort by default.\n",
      "\n",
      "To accept the future behavior, pass 'sort=False'.\n",
      "\n",
      "To retain the current behavior and silence the warning, pass 'sort=True'.\n",
      "\n",
      "  import sys\n"
     ]
    }
   ],
   "source": [
    "var_list = pd.concat(\n",
    "    [\n",
    "        pd.DataFrame({\n",
    "            'pos': [10, 100],\n",
    "            'allele_ids': ['A,T', 'G,A']\n",
    "        }),\n",
    "        variant_annot\n",
    "    ]\n",
    ")[:10]\n",
    "var_generator = reader.retrieve_from_list(\n",
    "    chrom=[ '' for i in range(var_list.shape[0]) ], \n",
    "    pos=var_list.pos.tolist(), \n",
    "    non_effect_allele=var_list.allele_ids.map(lambda x: x.split(',')[0]).tolist(), \n",
    "    effect_allele=var_list.allele_ids.map(lambda x: x.split(',')[1]).tolist(),\n",
    "    n_var_cached=100\n",
    ")"
   ]
  },
  {
   "cell_type": "code",
   "execution_count": 39,
   "metadata": {},
   "outputs": [
    {
     "data": {
      "text/html": [
       "<div>\n",
       "<style scoped>\n",
       "    .dataframe tbody tr th:only-of-type {\n",
       "        vertical-align: middle;\n",
       "    }\n",
       "\n",
       "    .dataframe tbody tr th {\n",
       "        vertical-align: top;\n",
       "    }\n",
       "\n",
       "    .dataframe thead th {\n",
       "        text-align: right;\n",
       "    }\n",
       "</style>\n",
       "<table border=\"1\" class=\"dataframe\">\n",
       "  <thead>\n",
       "    <tr style=\"text-align: right;\">\n",
       "      <th></th>\n",
       "      <th>AC</th>\n",
       "      <th>allele_ids</th>\n",
       "      <th>assigned_id</th>\n",
       "      <th>assigned_sign</th>\n",
       "      <th>beta</th>\n",
       "      <th>chrom</th>\n",
       "      <th>expected_case_minor_AC</th>\n",
       "      <th>id</th>\n",
       "      <th>index</th>\n",
       "      <th>low_confidence_variant</th>\n",
       "      <th>...</th>\n",
       "      <th>minor_allele</th>\n",
       "      <th>n_complete_samples</th>\n",
       "      <th>pos</th>\n",
       "      <th>pval</th>\n",
       "      <th>rsid</th>\n",
       "      <th>se</th>\n",
       "      <th>signed_beta</th>\n",
       "      <th>tstat</th>\n",
       "      <th>variant</th>\n",
       "      <th>ytx</th>\n",
       "    </tr>\n",
       "  </thead>\n",
       "  <tbody>\n",
       "    <tr>\n",
       "      <th>0</th>\n",
       "      <td>NaN</td>\n",
       "      <td>A,T</td>\n",
       "      <td>NaN</td>\n",
       "      <td>NaN</td>\n",
       "      <td>NaN</td>\n",
       "      <td>NaN</td>\n",
       "      <td>NaN</td>\n",
       "      <td>NaN</td>\n",
       "      <td>NaN</td>\n",
       "      <td>NaN</td>\n",
       "      <td>...</td>\n",
       "      <td>NaN</td>\n",
       "      <td>NaN</td>\n",
       "      <td>10</td>\n",
       "      <td>NaN</td>\n",
       "      <td>NaN</td>\n",
       "      <td>NaN</td>\n",
       "      <td>NaN</td>\n",
       "      <td>NaN</td>\n",
       "      <td>NaN</td>\n",
       "      <td>NaN</td>\n",
       "    </tr>\n",
       "    <tr>\n",
       "      <th>1</th>\n",
       "      <td>NaN</td>\n",
       "      <td>G,A</td>\n",
       "      <td>NaN</td>\n",
       "      <td>NaN</td>\n",
       "      <td>NaN</td>\n",
       "      <td>NaN</td>\n",
       "      <td>NaN</td>\n",
       "      <td>NaN</td>\n",
       "      <td>NaN</td>\n",
       "      <td>NaN</td>\n",
       "      <td>...</td>\n",
       "      <td>NaN</td>\n",
       "      <td>NaN</td>\n",
       "      <td>100</td>\n",
       "      <td>NaN</td>\n",
       "      <td>NaN</td>\n",
       "      <td>NaN</td>\n",
       "      <td>NaN</td>\n",
       "      <td>NaN</td>\n",
       "      <td>NaN</td>\n",
       "      <td>NaN</td>\n",
       "    </tr>\n",
       "    <tr>\n",
       "      <th>0</th>\n",
       "      <td>16959.0</td>\n",
       "      <td>G,A</td>\n",
       "      <td>16:85629:G:A</td>\n",
       "      <td>+</td>\n",
       "      <td>0.000551</td>\n",
       "      <td>16.0</td>\n",
       "      <td>297.870000</td>\n",
       "      <td>16</td>\n",
       "      <td>0.0</td>\n",
       "      <td>False</td>\n",
       "      <td>...</td>\n",
       "      <td>A</td>\n",
       "      <td>166988.0</td>\n",
       "      <td>85629</td>\n",
       "      <td>0.593783</td>\n",
       "      <td>rs74676015</td>\n",
       "      <td>0.001033</td>\n",
       "      <td>0.000551</td>\n",
       "      <td>0.533363</td>\n",
       "      <td>16:85629:G:A</td>\n",
       "      <td>305.0</td>\n",
       "    </tr>\n",
       "    <tr>\n",
       "      <th>1</th>\n",
       "      <td>5827.0</td>\n",
       "      <td>C,A</td>\n",
       "      <td>16:85667:C:A</td>\n",
       "      <td>+</td>\n",
       "      <td>-0.002301</td>\n",
       "      <td>16.0</td>\n",
       "      <td>102.346000</td>\n",
       "      <td>16</td>\n",
       "      <td>1.0</td>\n",
       "      <td>False</td>\n",
       "      <td>...</td>\n",
       "      <td>A</td>\n",
       "      <td>166988.0</td>\n",
       "      <td>85667</td>\n",
       "      <td>0.183405</td>\n",
       "      <td>rs117923034</td>\n",
       "      <td>0.001730</td>\n",
       "      <td>-0.002301</td>\n",
       "      <td>-1.330350</td>\n",
       "      <td>16:85667:C:A</td>\n",
       "      <td>89.0</td>\n",
       "    </tr>\n",
       "    <tr>\n",
       "      <th>2</th>\n",
       "      <td>6876.0</td>\n",
       "      <td>A,C</td>\n",
       "      <td>16:89659:A:C</td>\n",
       "      <td>+</td>\n",
       "      <td>-0.001565</td>\n",
       "      <td>16.0</td>\n",
       "      <td>120.771000</td>\n",
       "      <td>16</td>\n",
       "      <td>2.0</td>\n",
       "      <td>False</td>\n",
       "      <td>...</td>\n",
       "      <td>C</td>\n",
       "      <td>166988.0</td>\n",
       "      <td>89659</td>\n",
       "      <td>0.326478</td>\n",
       "      <td>rs72763640</td>\n",
       "      <td>0.001595</td>\n",
       "      <td>-0.001565</td>\n",
       "      <td>-0.981236</td>\n",
       "      <td>16:89659:A:C</td>\n",
       "      <td>109.0</td>\n",
       "    </tr>\n",
       "    <tr>\n",
       "      <th>3</th>\n",
       "      <td>23116.0</td>\n",
       "      <td>G,A</td>\n",
       "      <td>16:92391:G:A</td>\n",
       "      <td>+</td>\n",
       "      <td>-0.001029</td>\n",
       "      <td>16.0</td>\n",
       "      <td>406.013000</td>\n",
       "      <td>16</td>\n",
       "      <td>3.0</td>\n",
       "      <td>False</td>\n",
       "      <td>...</td>\n",
       "      <td>A</td>\n",
       "      <td>166988.0</td>\n",
       "      <td>92391</td>\n",
       "      <td>0.249725</td>\n",
       "      <td>rs1088642</td>\n",
       "      <td>0.000894</td>\n",
       "      <td>-0.001029</td>\n",
       "      <td>-1.151020</td>\n",
       "      <td>16:92391:G:A</td>\n",
       "      <td>381.0</td>\n",
       "    </tr>\n",
       "    <tr>\n",
       "      <th>4</th>\n",
       "      <td>2887.0</td>\n",
       "      <td>G,A</td>\n",
       "      <td>16:92688:G:A</td>\n",
       "      <td>+</td>\n",
       "      <td>0.003364</td>\n",
       "      <td>16.0</td>\n",
       "      <td>50.707700</td>\n",
       "      <td>16</td>\n",
       "      <td>4.0</td>\n",
       "      <td>False</td>\n",
       "      <td>...</td>\n",
       "      <td>A</td>\n",
       "      <td>166988.0</td>\n",
       "      <td>92688</td>\n",
       "      <td>0.168642</td>\n",
       "      <td>rs117695470</td>\n",
       "      <td>0.002444</td>\n",
       "      <td>0.003364</td>\n",
       "      <td>1.376590</td>\n",
       "      <td>16:92688:G:A</td>\n",
       "      <td>61.0</td>\n",
       "    </tr>\n",
       "    <tr>\n",
       "      <th>5</th>\n",
       "      <td>229394.0</td>\n",
       "      <td>G,A</td>\n",
       "      <td>16:105325:G:A</td>\n",
       "      <td>+</td>\n",
       "      <td>-0.000071</td>\n",
       "      <td>16.0</td>\n",
       "      <td>1836.890000</td>\n",
       "      <td>16</td>\n",
       "      <td>5.0</td>\n",
       "      <td>False</td>\n",
       "      <td>...</td>\n",
       "      <td>G</td>\n",
       "      <td>166988.0</td>\n",
       "      <td>105325</td>\n",
       "      <td>0.883987</td>\n",
       "      <td>rs2858042</td>\n",
       "      <td>0.000489</td>\n",
       "      <td>-0.000071</td>\n",
       "      <td>-0.145917</td>\n",
       "      <td>16:105325:G:A</td>\n",
       "      <td>4024.0</td>\n",
       "    </tr>\n",
       "    <tr>\n",
       "      <th>6</th>\n",
       "      <td>19.0</td>\n",
       "      <td>C,T</td>\n",
       "      <td>16:106596:C:T</td>\n",
       "      <td>+</td>\n",
       "      <td>0.035728</td>\n",
       "      <td>16.0</td>\n",
       "      <td>0.333719</td>\n",
       "      <td>16</td>\n",
       "      <td>6.0</td>\n",
       "      <td>True</td>\n",
       "      <td>...</td>\n",
       "      <td>T</td>\n",
       "      <td>166988.0</td>\n",
       "      <td>106596</td>\n",
       "      <td>0.234488</td>\n",
       "      <td>rs80023530</td>\n",
       "      <td>0.030052</td>\n",
       "      <td>0.035728</td>\n",
       "      <td>1.188880</td>\n",
       "      <td>16:106596:C:T</td>\n",
       "      <td>1.0</td>\n",
       "    </tr>\n",
       "    <tr>\n",
       "      <th>7</th>\n",
       "      <td>12796.0</td>\n",
       "      <td>A,C</td>\n",
       "      <td>16:119006:A:C</td>\n",
       "      <td>+</td>\n",
       "      <td>0.001227</td>\n",
       "      <td>16.0</td>\n",
       "      <td>224.751000</td>\n",
       "      <td>16</td>\n",
       "      <td>7.0</td>\n",
       "      <td>False</td>\n",
       "      <td>...</td>\n",
       "      <td>C</td>\n",
       "      <td>166988.0</td>\n",
       "      <td>119006</td>\n",
       "      <td>0.299191</td>\n",
       "      <td>rs117078265</td>\n",
       "      <td>0.001182</td>\n",
       "      <td>0.001227</td>\n",
       "      <td>1.038170</td>\n",
       "      <td>16:119006:A:C</td>\n",
       "      <td>241.0</td>\n",
       "    </tr>\n",
       "  </tbody>\n",
       "</table>\n",
       "<p>10 rows × 21 columns</p>\n",
       "</div>"
      ],
      "text/plain": [
       "         AC allele_ids    assigned_id assigned_sign      beta  chrom  \\\n",
       "0       NaN        A,T            NaN           NaN       NaN    NaN   \n",
       "1       NaN        G,A            NaN           NaN       NaN    NaN   \n",
       "0   16959.0        G,A   16:85629:G:A             +  0.000551   16.0   \n",
       "1    5827.0        C,A   16:85667:C:A             + -0.002301   16.0   \n",
       "2    6876.0        A,C   16:89659:A:C             + -0.001565   16.0   \n",
       "3   23116.0        G,A   16:92391:G:A             + -0.001029   16.0   \n",
       "4    2887.0        G,A   16:92688:G:A             +  0.003364   16.0   \n",
       "5  229394.0        G,A  16:105325:G:A             + -0.000071   16.0   \n",
       "6      19.0        C,T  16:106596:C:T             +  0.035728   16.0   \n",
       "7   12796.0        A,C  16:119006:A:C             +  0.001227   16.0   \n",
       "\n",
       "   expected_case_minor_AC   id  index low_confidence_variant   ...    \\\n",
       "0                     NaN  NaN    NaN                    NaN   ...     \n",
       "1                     NaN  NaN    NaN                    NaN   ...     \n",
       "0              297.870000   16    0.0                  False   ...     \n",
       "1              102.346000   16    1.0                  False   ...     \n",
       "2              120.771000   16    2.0                  False   ...     \n",
       "3              406.013000   16    3.0                  False   ...     \n",
       "4               50.707700   16    4.0                  False   ...     \n",
       "5             1836.890000   16    5.0                  False   ...     \n",
       "6                0.333719   16    6.0                   True   ...     \n",
       "7              224.751000   16    7.0                  False   ...     \n",
       "\n",
       "   minor_allele n_complete_samples     pos      pval         rsid        se  \\\n",
       "0           NaN                NaN      10       NaN          NaN       NaN   \n",
       "1           NaN                NaN     100       NaN          NaN       NaN   \n",
       "0             A           166988.0   85629  0.593783   rs74676015  0.001033   \n",
       "1             A           166988.0   85667  0.183405  rs117923034  0.001730   \n",
       "2             C           166988.0   89659  0.326478   rs72763640  0.001595   \n",
       "3             A           166988.0   92391  0.249725    rs1088642  0.000894   \n",
       "4             A           166988.0   92688  0.168642  rs117695470  0.002444   \n",
       "5             G           166988.0  105325  0.883987    rs2858042  0.000489   \n",
       "6             T           166988.0  106596  0.234488   rs80023530  0.030052   \n",
       "7             C           166988.0  119006  0.299191  rs117078265  0.001182   \n",
       "\n",
       "   signed_beta     tstat        variant     ytx  \n",
       "0          NaN       NaN            NaN     NaN  \n",
       "1          NaN       NaN            NaN     NaN  \n",
       "0     0.000551  0.533363   16:85629:G:A   305.0  \n",
       "1    -0.002301 -1.330350   16:85667:C:A    89.0  \n",
       "2    -0.001565 -0.981236   16:89659:A:C   109.0  \n",
       "3    -0.001029 -1.151020   16:92391:G:A   381.0  \n",
       "4     0.003364  1.376590   16:92688:G:A    61.0  \n",
       "5    -0.000071 -0.145917  16:105325:G:A  4024.0  \n",
       "6     0.035728  1.188880  16:106596:C:T     1.0  \n",
       "7     0.001227  1.038170  16:119006:A:C   241.0  \n",
       "\n",
       "[10 rows x 21 columns]"
      ]
     },
     "execution_count": 39,
     "metadata": {},
     "output_type": "execute_result"
    }
   ],
   "source": [
    "var_list"
   ]
  },
  {
   "cell_type": "code",
   "execution_count": 40,
   "metadata": {},
   "outputs": [
    {
     "name": "stdout",
     "output_type": "stream",
     "text": [
      "chr                                                                   \n",
      "position                                                         85629\n",
      "rsid                                                        rs74676015\n",
      "number_of_alleles                                                    2\n",
      "allele0                                                              G\n",
      "allele1                                                              A\n",
      "my_var_id                                                   :85629:G:A\n",
      "haplo_dosage_1       [0.0, 0.0, 0.0, 0.0, 0.0, 0.0, 0.0, 0.0, 0.0, ...\n",
      "haplo_dosage_2       [0.0, 0.0, 0.0, 0.0, 0.0, 0.0, 0.0, 0.0, 0.0, ...\n",
      "Name: 0, dtype: object\n",
      "chr                                                                   \n",
      "position                                                         85667\n",
      "rsid                                                       rs117923034\n",
      "number_of_alleles                                                    2\n",
      "allele0                                                              C\n",
      "allele1                                                              A\n",
      "my_var_id                                                   :85667:C:A\n",
      "haplo_dosage_1       [0.0, 1.0, 0.0, 0.0, 0.0, 0.0, 0.0, 0.0, 0.0, ...\n",
      "haplo_dosage_2       [0.0, 0.0, 0.0, 1.0, 0.0, 0.0, 0.0, 0.0, 0.0, ...\n",
      "Name: 1, dtype: object\n",
      "chr                                                                   \n",
      "position                                                         89659\n",
      "rsid                                                        rs72763640\n",
      "number_of_alleles                                                    2\n",
      "allele0                                                              A\n",
      "allele1                                                              C\n",
      "my_var_id                                                   :89659:A:C\n",
      "haplo_dosage_1       [0.0, 0.0, 0.0, 0.0, 0.0, 0.0, 0.0, 0.0, 0.0, ...\n",
      "haplo_dosage_2       [0.0, 0.0, 0.0, 0.0, 0.0, 0.0, 0.0, 0.0, 0.0, ...\n",
      "Name: 2, dtype: object\n",
      "chr                                                                   \n",
      "position                                                         92391\n",
      "rsid                                                         rs1088642\n",
      "number_of_alleles                                                    2\n",
      "allele0                                                              G\n",
      "allele1                                                              A\n",
      "my_var_id                                                   :92391:G:A\n",
      "haplo_dosage_1       [0.0, 0.0, 0.0, 0.0, 1.0, 0.0, 0.0, 0.0, 0.0, ...\n",
      "haplo_dosage_2       [0.0, 0.0, 0.0, 0.0, 0.0, 0.0, 0.0, 1.0, 0.0, ...\n",
      "Name: 5, dtype: object\n",
      "chr                                                                   \n",
      "position                                                         92688\n",
      "rsid                                                       rs117695470\n",
      "number_of_alleles                                                    2\n",
      "allele0                                                              G\n",
      "allele1                                                              A\n",
      "my_var_id                                                   :92688:G:A\n",
      "haplo_dosage_1       [0.0, 0.0, 0.0, 0.0, 0.0, 0.0, 0.0, 0.0, 0.0, ...\n",
      "haplo_dosage_2       [0.0, 0.0, 0.0, 0.0, 0.0, 0.0, 0.0, 0.0, 0.0, ...\n",
      "Name: 6, dtype: object\n",
      "chr                                                                   \n",
      "position                                                        105325\n",
      "rsid                                                         rs2858042\n",
      "number_of_alleles                                                    2\n",
      "allele0                                                              G\n",
      "allele1                                                              A\n",
      "my_var_id                                                  :105325:G:A\n",
      "haplo_dosage_1       [1.0, 1.0, 1.0, 0.0, 1.0, 1.0, 1.0, 1.0, 0.0, ...\n",
      "haplo_dosage_2       [1.0, 0.0, 1.0, 1.0, 0.0, 1.0, 1.0, 1.0, 0.0, ...\n",
      "Name: 9, dtype: object\n",
      "chr                                                                   \n",
      "position                                                        106596\n",
      "rsid                                                        rs80023530\n",
      "number_of_alleles                                                    2\n",
      "allele0                                                              C\n",
      "allele1                                                              T\n",
      "my_var_id                                                  :106596:C:T\n",
      "haplo_dosage_1       [0.0, 0.0, 0.0, 0.0, 0.0, 0.0, 0.0, 0.0, 0.0, ...\n",
      "haplo_dosage_2       [0.0, 0.0, 0.0, 0.0, 0.0, 0.0, 0.0, 0.0, 0.0, ...\n",
      "Name: 10, dtype: object\n",
      "chr                                                                   \n",
      "position                                                        119006\n",
      "rsid                                                       rs117078265\n",
      "number_of_alleles                                                    2\n",
      "allele0                                                              A\n",
      "allele1                                                              C\n",
      "my_var_id                                                  :119006:A:C\n",
      "haplo_dosage_1       [0.0, 0.0, 0.0, 0.0, 0.0, 0.0, 0.0, 0.0, 0.0, ...\n",
      "haplo_dosage_2       [0.0, 0.0, 0.0, 0.0, 0.0, 0.0, 1.0, 0.0, 0.0, ...\n",
      "Name: 18, dtype: object\n"
     ]
    }
   ],
   "source": [
    "for i in var_generator:\n",
    "    print(i)"
   ]
  },
  {
   "cell_type": "code",
   "execution_count": 24,
   "metadata": {},
   "outputs": [],
   "source": [
    "# # don't run: old approach\n",
    "# # extract a chunk of variants\n",
    "# var_sub = variant_annot[['pos', 'assigned_id']][:1]\n",
    "\n",
    "# start = var_sub.pos[0]\n",
    "# end = var_sub.pos[var_sub.shape[0] - 1]\n",
    "# range_pd = pd.DataFrame(\n",
    "#     {\n",
    "#         'chromosome': [''],\n",
    "#         'start': [start],\n",
    "#         'end': [end]\n",
    "#     }\n",
    "# )\n",
    "# bgen = rbgen.bgen_load(\n",
    "#     f'{filedir}/ukb_hap_chr{chr_num}_v2.bgen',\n",
    "#     index_filename=f'/vol/bmd/meliao/data/haplotype/hap_bgi/ukb_hap_chr{chr_num}_v2.bgen.bgi',\n",
    "#     ranges=range_pd, # range_r,\n",
    "#     max_entries_per_sample=4\n",
    "# )"
   ]
  },
  {
   "cell_type": "code",
   "execution_count": 113,
   "metadata": {},
   "outputs": [],
   "source": [
    "def get_effect_size(beta, sign):\n",
    "    if sign == '+':\n",
    "        return beta\n",
    "    elif sign == '-':\n",
    "        return -beta\n",
    "    else:\n",
    "        raise ValueError(f'sign = {sign} is not allowed.')\n",
    "def _check_ncol(mat, ncol):\n",
    "    '''\n",
    "    check if mat has expected number of columns\n",
    "    '''\n",
    "    if mat.shape[1] != ncol:\n",
    "        raise ValueError(f'ukb_hap does not have {ncol} columns.')\n",
    "def ukb_hap_to_haplo(ukb_hap):\n",
    "    '''\n",
    "    expect ukb_hap has 4 columns\n",
    "    ukb hap encoding law:\n",
    "        0,1,0,1 -> 1|1\n",
    "        0,1,1,0 -> 1|0\n",
    "        1,0,0,1 -> 0|1\n",
    "        1,0,1,0 -> 0|0\n",
    "    i.e. the 1st, 2nd columns encode haplotype 1 and \n",
    "    the 3rd, 4th columns encode haplotype 2.\n",
    "    And 0,1->1; 1,0->0. \n",
    "    Other combinations are not allowed.\n",
    "    '''\n",
    "    _check_ncol(ukb_hap, 4)\n",
    "    out = {\n",
    "        'h1': _hap_to_count(ukb_hap[:, :2]),\n",
    "        'h2': _hap_to_count(ukb_hap[:, 2:])\n",
    "    }\n",
    "    return out\n",
    "def _hap_to_count(hap):\n",
    "    '''\n",
    "    expect hap has two columns.\n",
    "    '''\n",
    "    _check_ncol(hap, 2)\n",
    "    colsum = np.sum(hap, axis=1)\n",
    "    if (colsum != 1).sum() > 0:\n",
    "        raise ValueError('some rows have colsum != 1 which is not allowed.')\n",
    "    return hap[:,1]"
   ]
  },
  {
   "cell_type": "code",
   "execution_count": 122,
   "metadata": {},
   "outputs": [
    {
     "name": "stderr",
     "output_type": "stream",
     "text": [
      "\r",
      "  0%|          | 0/10 [00:00<?, ?it/s]"
     ]
    },
    {
     "name": "stdout",
     "output_type": "stream",
     "text": [
      "3.42455e-07\n"
     ]
    },
    {
     "name": "stderr",
     "output_type": "stream",
     "text": [
      "\r",
      " 10%|█         | 1/10 [00:00<00:04,  1.93it/s]"
     ]
    },
    {
     "name": "stdout",
     "output_type": "stream",
     "text": [
      "3.66874e-05\n"
     ]
    },
    {
     "name": "stderr",
     "output_type": "stream",
     "text": [
      "\r",
      " 20%|██        | 2/10 [00:00<00:03,  2.02it/s]"
     ]
    },
    {
     "name": "stdout",
     "output_type": "stream",
     "text": [
      "4.18463e-05\n"
     ]
    },
    {
     "name": "stderr",
     "output_type": "stream",
     "text": [
      "\r",
      " 30%|███       | 3/10 [00:01<00:03,  1.99it/s]"
     ]
    },
    {
     "name": "stdout",
     "output_type": "stream",
     "text": [
      "5.7707399999999996e-05\n"
     ]
    },
    {
     "name": "stderr",
     "output_type": "stream",
     "text": [
      "\r",
      " 40%|████      | 4/10 [00:01<00:02,  2.07it/s]"
     ]
    },
    {
     "name": "stdout",
     "output_type": "stream",
     "text": [
      "9.34941e-05\n"
     ]
    },
    {
     "name": "stderr",
     "output_type": "stream",
     "text": [
      "\r",
      " 50%|█████     | 5/10 [00:02<00:02,  1.88it/s]"
     ]
    },
    {
     "name": "stdout",
     "output_type": "stream",
     "text": [
      "9.67742e-05\n"
     ]
    },
    {
     "name": "stderr",
     "output_type": "stream",
     "text": [
      "\r",
      " 60%|██████    | 6/10 [00:03<00:02,  1.91it/s]"
     ]
    },
    {
     "name": "stdout",
     "output_type": "stream",
     "text": [
      "0.00011214700000000001\n"
     ]
    },
    {
     "name": "stderr",
     "output_type": "stream",
     "text": [
      "\r",
      " 70%|███████   | 7/10 [00:03<00:01,  1.88it/s]"
     ]
    },
    {
     "name": "stdout",
     "output_type": "stream",
     "text": [
      "0.000143731\n"
     ]
    },
    {
     "name": "stderr",
     "output_type": "stream",
     "text": [
      "\r",
      " 80%|████████  | 8/10 [00:04<00:00,  2.03it/s]"
     ]
    },
    {
     "name": "stdout",
     "output_type": "stream",
     "text": [
      "0.00017396799999999999\n"
     ]
    },
    {
     "name": "stderr",
     "output_type": "stream",
     "text": [
      "\r",
      " 90%|█████████ | 9/10 [00:04<00:00,  2.03it/s]"
     ]
    },
    {
     "name": "stdout",
     "output_type": "stream",
     "text": [
      "0.000194697\n"
     ]
    },
    {
     "name": "stderr",
     "output_type": "stream",
     "text": [
      "100%|██████████| 10/10 [00:04<00:00,  2.03it/s]\n"
     ]
    }
   ],
   "source": [
    "prs_thresholds = [5e-8, 1e-7, 1e-6, 1e-5, 1e-4, 1e-3, 1e-2, 0.05, 0.1, 0.5, 1]\n",
    "geno = bgen[\"genotype\"][0].compute()\n",
    "\n",
    "# init out matrix and dynamic prs matrix \n",
    "outmat = {\n",
    "    'h1': np.empty(\n",
    "        (bgen['samples'].shape[0], len(prs_thresholds))\n",
    "    ),\n",
    "    'h2': np.empty(\n",
    "        (bgen['samples'].shape[0], len(prs_thresholds))\n",
    "    )\n",
    "}\n",
    "\n",
    "prs_collector = {\n",
    "    'h1': np.zeros((bgen['samples'].shape[0])),\n",
    "    'h2': np.zeros((bgen['samples'].shape[0]))\n",
    "}\n",
    "\n",
    "prs_thresholds.sort()\n",
    "prs_index = 0  # go through prs cutoffs from stringent to loss\n",
    "\n",
    "for row_i in tqdm(range(10)):  # variant_annot.shape[0]\n",
    "#     print(row_i)\n",
    "    pval = variant_annot.pval[row_i]; print(pval)\n",
    "    variant_idx = variant_annot.idx[row_i]\n",
    "    effect_size = get_effect_size(\n",
    "        variant_annot.beta[row_i],\n",
    "        variant_annot.assigned_sign[row_i]\n",
    "    )\n",
    "    if pval > prs_thresholds[prs_index]:\n",
    "        for h_index in outmat.keys():\n",
    "            outmat[h_index][:, prs_index] = prs_collector[h_index]\n",
    "        prs_index += 1\n",
    "        if prs_index >= len(prs_thresholds):\n",
    "            break\n",
    "    ukb_hap = bgen[\"genotype\"][variant_idx].compute()\n",
    "    haplo = ukb_hap_to_haplo(ukb_hap['probs'])\n",
    "    for h_index in haplo.keys():\n",
    "        prs_collector[h_index] = prs_collector[h_index] + haplo[h_index] * effect_size\n",
    "\n",
    "# if we run out of variants before going through all p-value cutoffs \n",
    "# remove these not used cutoffs\n",
    "if prs_index != outmat['h1'].shape[1]:\n",
    "    prs_thresholds = prs_thresholds[:prs_index]\n",
    "    for h_index in outmat.keys():\n",
    "            outmat[h_index] = outmat[h_index][:, :prs_index]"
   ]
  },
  {
   "cell_type": "code",
   "execution_count": 133,
   "metadata": {},
   "outputs": [
    {
     "data": {
      "text/plain": [
       "107.194394"
      ]
     },
     "execution_count": 133,
     "metadata": {},
     "output_type": "execute_result"
    }
   ],
   "source": [
    "outmat['h2'][:,1].sum()"
   ]
  },
  {
   "cell_type": "code",
   "execution_count": 120,
   "metadata": {},
   "outputs": [
    {
     "data": {
      "text/plain": [
       "0       3.424550e-07\n",
       "1       3.668740e-05\n",
       "2       4.184630e-05\n",
       "3       5.770740e-05\n",
       "4       9.349410e-05\n",
       "            ...     \n",
       "9388    9.996810e-01\n",
       "9389    9.997860e-01\n",
       "9390    9.998070e-01\n",
       "9391    9.998190e-01\n",
       "9392    9.998830e-01\n",
       "Name: pval, Length: 9393, dtype: float64"
      ]
     },
     "execution_count": 120,
     "metadata": {},
     "output_type": "execute_result"
    }
   ],
   "source": [
    "variant_annot.pval"
   ]
  },
  {
   "cell_type": "code",
   "execution_count": 71,
   "metadata": {},
   "outputs": [
    {
     "data": {
      "text/plain": [
       "0.498989"
      ]
     },
     "execution_count": 71,
     "metadata": {},
     "output_type": "execute_result"
    }
   ],
   "source": [
    "variant_annot.pval[10]"
   ]
  },
  {
   "cell_type": "code",
   "execution_count": 69,
   "metadata": {},
   "outputs": [
    {
     "data": {
      "text/plain": [
       "(487409,)"
      ]
     },
     "execution_count": 69,
     "metadata": {},
     "output_type": "execute_result"
    }
   ],
   "source": [
    "bgen['samples'].shape"
   ]
  }
 ],
 "metadata": {
  "kernelspec": {
   "display_name": "Python 3",
   "language": "python",
   "name": "python3"
  },
  "language_info": {
   "codemirror_mode": {
    "name": "ipython",
    "version": 3
   },
   "file_extension": ".py",
   "mimetype": "text/x-python",
   "name": "python",
   "nbconvert_exporter": "python",
   "pygments_lexer": "ipython3",
   "version": "3.7.6"
  }
 },
 "nbformat": 4,
 "nbformat_minor": 4
}
