{
 "cells": [
  {
   "cell_type": "code",
   "execution_count": 1,
   "metadata": {},
   "outputs": [],
   "source": [
    "import bgen_reader\n",
    "import pandas as pd"
   ]
  },
  {
   "cell_type": "markdown",
   "metadata": {},
   "source": [
    "# Load data"
   ]
  },
  {
   "cell_type": "code",
   "execution_count": 2,
   "metadata": {},
   "outputs": [],
   "source": [
    "filedir = '/vol/bmd/meliao/data/haplotype/hap/'\n",
    "chr_num = '22'"
   ]
  },
  {
   "cell_type": "code",
   "execution_count": 3,
   "metadata": {},
   "outputs": [
    {
     "name": "stderr",
     "output_type": "stream",
     "text": [
      "/vol/bmd/yanyul/miniconda3/envs/haplotype_po/lib/python3.7/site-packages/bgen_reader/_reader.py:135: UserWarning: You don't have permission to write to `/vol/bmd/meliao/data/haplotype/hap/ukb_hap_chr22_v2.bgen.metadata`.\n",
      "This might prevent speeding-up the reading process in future runs.\n",
      "\n",
      "  warnings.warn(_metafile_nowrite_dir.format(filepath=fp), UserWarning)\n"
     ]
    },
    {
     "name": "stdout",
     "output_type": "stream",
     "text": [
      "We will create the metafile `/tmp/tmphs1_bh2_/%vol%bmd%meliao%data%haplotype%hapukb_hap_chr22_v2.bgen.metadata`. This file will speed up further\n",
      "reads and only need to be created once. So, please, bear with me.\n",
      "Sample IDs are read from /vol/bmd/meliao/data/haplotype/link_files/ukb1952_v2_s487398.sample.\n"
     ]
    },
    {
     "name": "stderr",
     "output_type": "stream",
     "text": [
      "Mapping variants: 100%|██████████| 10911/10911 [00:00<00:00, 68737.70it/s]\n"
     ]
    }
   ],
   "source": [
    "bgen = bgen_reader.read_bgen(\n",
    "    f'{filedir}/ukb_hap_chr{chr_num}_v2.bgen', \n",
    "    samples_filepath = '/vol/bmd/meliao/data/haplotype/link_files/ukb1952_v2_s487398.sample'\n",
    ")"
   ]
  },
  {
   "cell_type": "code",
   "execution_count": 4,
   "metadata": {},
   "outputs": [],
   "source": [
    "gwas = pd.read_csv(\n",
    "    '/vol/bmd/yanyul/UKB/haplotype_imputation/20002_1065.gwas.imputed_v3.both_sexes.tsv.bgz', \n",
    "    header = 0, \n",
    "    sep = '\\t', \n",
    "    compression = 'gzip'\n",
    ")"
   ]
  },
  {
   "cell_type": "code",
   "execution_count": 7,
   "metadata": {},
   "outputs": [],
   "source": [
    "snp_map = pd.read_csv(\n",
    "    '/vol/bmd/yanyul/UKB/haplotype_imputation/snp_map_for_neale_lab_gwas.tsv.gz',\n",
    "    sep='\\t',\n",
    "    header=0,\n",
    "    compression='gzip',\n",
    "    dtype={3:'str'}\n",
    ")"
   ]
  },
  {
   "cell_type": "markdown",
   "metadata": {},
   "source": [
    "# Workflow\n",
    "\n",
    "1. **In genotype**, annotate variant with variant ID in Neale's lab.\n",
    "2. **In genotype**, filter out variant that does not occur in Neale's lab.\n",
    "3. **In GWAS**, extract variant that occur in genotype.\n",
    "4. **In both**, join and compute."
   ]
  },
  {
   "cell_type": "code",
   "execution_count": 18,
   "metadata": {},
   "outputs": [
    {
     "data": {
      "text/plain": [
       "10911"
      ]
     },
     "execution_count": 18,
     "metadata": {},
     "output_type": "execute_result"
    }
   ],
   "source": [
    "bgen[\"genotype\"][1].compute()"
   ]
  }
 ],
 "metadata": {
  "kernelspec": {
   "display_name": "Python 3",
   "language": "python",
   "name": "python3"
  },
  "language_info": {
   "codemirror_mode": {
    "name": "ipython",
    "version": 3
   },
   "file_extension": ".py",
   "mimetype": "text/x-python",
   "name": "python",
   "nbconvert_exporter": "python",
   "pygments_lexer": "ipython3",
   "version": "3.7.6"
  }
 },
 "nbformat": 4,
 "nbformat_minor": 4
}
