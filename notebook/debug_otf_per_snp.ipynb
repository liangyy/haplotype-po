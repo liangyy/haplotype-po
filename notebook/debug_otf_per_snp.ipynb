{
 "cells": [
  {
   "cell_type": "code",
   "execution_count": 89,
   "metadata": {},
   "outputs": [],
   "source": [
    "import sys\n",
    "sys.path.insert(0, '../scripts/haplotype_imputation/')\n",
    "import haplotype_imputer\n",
    "import imp\n",
    "haplotype_imputer = imp.reload(haplotype_imputer)"
   ]
  },
  {
   "cell_type": "code",
   "execution_count": 90,
   "metadata": {},
   "outputs": [],
   "source": [
    "import numpy as np\n",
    "import torch\n",
    "import matplotlib.pyplot as plt"
   ]
  },
  {
   "cell_type": "code",
   "execution_count": 91,
   "metadata": {},
   "outputs": [],
   "source": [
    "n = 1000\n",
    "k = 10\n",
    "p = 5\n",
    "h1 = np.random.normal(size=(n, k))\n",
    "h2 = np.random.normal(size=(n, k))\n",
    "beta_f = np.random.normal(size=(k, p))\n",
    "beta_m = np.random.normal(size=(k, p))\n",
    "yf = np.matmul(h1[:, :5], beta_f[:5, :]) + np.random.normal(size=(n, p)) * 10\n",
    "ym = np.matmul(h2[:, :5], beta_m[:5, :]) + np.random.normal(size=(n, p)) * 10\n",
    "pos = np.zeros((k, p))\n",
    "pos[:5, :] = 1\n",
    "pos = pos == 1\n",
    "\n",
    "np.save('h1.npy', h1)\n",
    "np.save('h2.npy', h2)\n",
    "np.save('yf.npy', yf)\n",
    "np.save('ym.npy', ym)"
   ]
  },
  {
   "cell_type": "code",
   "execution_count": 17,
   "metadata": {},
   "outputs": [],
   "source": [
    "# # load\n",
    "# cmat = np.load('/Users/yanyul/Desktop/tmp/haplotype-po/cmat.npy')\n",
    "# hh1 = np.load('/Users/yanyul/Desktop/tmp/haplotype-po/hh1.npy')\n",
    "# hh2 = np.load('/Users/yanyul/Desktop/tmp/haplotype-po/hh2.npy')\n",
    "# mmat = np.load('/Users/yanyul/Desktop/tmp/haplotype-po/mmat.npy')\n",
    "# fmat = np.load('/Users/yanyul/Desktop/tmp/haplotype-po/fmat.npy')\n",
    "# posmat = np.load('/Users/yanyul/Desktop/tmp/haplotype-po/posmat.npy')"
   ]
  },
  {
   "cell_type": "code",
   "execution_count": 92,
   "metadata": {},
   "outputs": [],
   "source": [
    "imputer = haplotype_imputer.HaploImputer()"
   ]
  },
  {
   "cell_type": "code",
   "execution_count": 93,
   "metadata": {},
   "outputs": [],
   "source": [
    "beta, beta_c, s2, prob_z, lld = imputer._em_otf_per_snp(yf, ym, h1, h2, pos)"
   ]
  },
  {
   "cell_type": "code",
   "execution_count": 96,
   "metadata": {},
   "outputs": [
    {
     "data": {
      "text/plain": [
       "tensor([0.6964, 0.9244, 0.8256, 0.3571, 0.8874, 0.5630, 0.6579, 0.6035, 0.3607,\n",
       "        0.8854, 0.7557, 0.7950, 0.5659, 0.5421, 0.4409, 0.9994, 0.6354, 0.6615,\n",
       "        0.5894, 0.3313, 0.5075, 0.9761, 0.6918, 0.7059, 0.6883, 0.9494, 0.2137,\n",
       "        0.6927, 0.3581, 0.8824, 0.5595, 0.7671, 0.9762, 0.9059, 0.8872, 0.7422,\n",
       "        1.0000, 0.0657, 0.4791, 0.9986, 0.3950, 0.5324, 0.5630, 0.7271, 0.8936,\n",
       "        0.9328, 0.5428, 0.7503, 0.6708, 0.7151, 0.7217, 0.7711, 0.1171, 0.6259,\n",
       "        0.6267, 0.5988, 0.8043, 0.5390, 0.2743, 0.8398, 0.3763, 0.5230, 0.4764,\n",
       "        0.3347, 0.3526, 0.5909, 0.6268, 0.7668, 0.8178, 0.9765, 0.8390, 0.7047,\n",
       "        0.8763, 0.5924, 0.4696, 0.6314, 0.9239, 0.6645, 0.4997, 0.4644, 0.9881,\n",
       "        0.6172, 0.9462, 0.8193, 0.5251, 0.2904, 0.5207, 0.7143, 0.8353, 0.7309,\n",
       "        0.3880, 0.3952, 0.1793, 0.8130, 0.3945, 0.5577, 0.6903, 0.8177, 0.3731,\n",
       "        0.6447, 0.6851, 0.5092, 0.6886, 0.4877, 0.8598, 0.5446, 0.4804, 0.4819,\n",
       "        0.9714, 0.5792, 0.7087, 0.9918, 0.3989, 0.5675, 0.5465, 0.9675, 0.2976,\n",
       "        0.6644, 0.9322, 0.5518, 0.7792, 0.8174, 0.1650, 0.7360, 0.2406, 0.8705,\n",
       "        0.4750, 0.2850, 0.5738, 0.7871, 0.9163, 0.7050, 0.6271, 0.8805, 0.7942,\n",
       "        0.8622, 0.6767, 0.4138, 0.3005, 0.8682, 0.8850, 0.7987, 0.8925, 0.7004,\n",
       "        0.2979, 0.9002, 0.8721, 0.2991, 0.6103, 0.3767, 0.5634, 0.5167, 0.4581,\n",
       "        0.1204, 0.5271, 0.7345, 0.5526, 0.4507, 0.2988, 0.9232, 0.7293, 0.4943,\n",
       "        0.6302, 0.7936, 0.4290, 0.5144, 0.6563, 0.4522, 0.4680, 0.1666, 0.4099,\n",
       "        0.6415, 0.9992, 0.7892, 0.6865, 0.5175, 0.5744, 0.7231, 0.5632, 0.8965,\n",
       "        0.7370, 0.5258, 0.8797, 0.3425, 0.8362, 0.5303, 0.8320, 0.4153, 0.6671,\n",
       "        0.1891, 0.5002, 0.2865, 0.4069, 0.5058, 0.9859, 0.5011, 0.6254, 0.3929,\n",
       "        0.5986, 0.6765, 0.7710, 0.7598, 0.9230, 0.4916, 0.1997, 0.8481, 0.7739,\n",
       "        0.8600, 0.5847, 0.3898, 0.7104, 0.7817, 0.4678, 0.3015, 0.5019, 0.5775,\n",
       "        0.7061, 0.7803, 0.1787, 0.7320, 0.7119, 0.9107, 0.4462, 0.9496, 0.4004,\n",
       "        0.3701, 0.6424, 0.7708, 0.9638, 0.5739, 0.6620, 0.4953, 0.4350, 0.4837,\n",
       "        0.7922, 0.6693, 0.3523, 0.7633, 0.6612, 0.5194, 0.4934, 0.6969, 0.9343,\n",
       "        0.4084, 0.6585, 0.8031, 0.9065, 0.6712, 0.8971, 0.7650, 0.9993, 0.4954,\n",
       "        0.7204, 0.5206, 0.5996, 0.4206, 0.8004, 0.3659, 0.6406, 0.3937, 0.5489,\n",
       "        0.6780, 0.7281, 0.9315, 0.6268, 0.5416, 0.9644, 0.1459, 0.4810, 0.5593,\n",
       "        0.3924, 0.8914, 0.8804, 0.5109, 0.7909, 0.5573, 0.2377, 0.9437, 0.3576,\n",
       "        0.8789, 0.4218, 0.4965, 0.4565, 0.7592, 0.4911, 0.3153, 0.2085, 0.6635,\n",
       "        0.1243, 0.7290, 0.5677, 0.4142, 0.4548, 0.5674, 0.3912, 0.3625, 0.8912,\n",
       "        0.6793, 0.6822, 0.5446, 0.9303, 0.3830, 0.5493, 0.2472, 0.5946, 0.8054,\n",
       "        0.4358, 0.6093, 0.8561, 0.4191, 0.5259, 0.4390, 0.5284, 0.7905, 0.8351,\n",
       "        0.8256, 0.5450, 0.8619, 0.4974, 0.4908, 0.4069, 0.3531, 0.6114, 0.8019,\n",
       "        0.3679, 0.8545, 0.5787, 0.6243, 0.2634, 0.4979, 0.7053, 0.8876, 0.6963,\n",
       "        0.7745, 0.6611, 0.8979, 0.8558, 0.3994, 0.4609, 0.4994, 0.4756, 0.7917,\n",
       "        0.7770, 0.2686, 0.5848, 0.4605, 0.7149, 0.5042, 0.8746, 0.8524, 0.2219,\n",
       "        0.5626, 0.6802, 0.2895, 0.5994, 0.5418, 0.5815, 0.2743, 0.4822, 0.7960,\n",
       "        0.6795, 0.8309, 0.4779, 0.9932, 0.0849, 0.3541, 0.8420, 0.8051, 0.6583,\n",
       "        0.7815, 0.7537, 0.5351, 0.6176, 0.5294, 0.5343, 0.4750, 0.6071, 0.3166,\n",
       "        0.7868, 0.6787, 0.8991, 0.9019, 0.4111, 0.7744, 0.7472, 0.8263, 0.3775,\n",
       "        0.7543, 0.2492, 0.7343, 0.3535, 0.6627, 0.6989, 0.3032, 0.4663, 0.9241,\n",
       "        0.4649, 0.6756, 0.6777, 0.7093, 0.6313, 0.6226, 0.6539, 0.7730, 0.1783,\n",
       "        0.9002, 0.4865, 0.7103, 0.3776, 0.4919, 0.7224, 0.5436, 0.7444, 0.4351,\n",
       "        0.5092, 0.3649, 0.7792, 0.8106, 0.8258, 0.4253, 0.5728, 0.8956, 0.3081,\n",
       "        0.6195, 0.7752, 0.7443, 0.8976, 0.7523, 0.2438, 0.7222, 0.7794, 0.7855,\n",
       "        0.3301, 0.7279, 0.6751, 0.9691, 0.6614, 0.4834, 0.5240, 0.7931, 0.5528,\n",
       "        0.6295, 0.6727, 0.8907, 0.4141, 0.1946, 0.6933, 0.3764, 0.2340, 0.8260,\n",
       "        0.3143, 0.7766, 0.4317, 0.4066, 0.4534, 0.3595, 0.2058, 0.7815, 0.3822,\n",
       "        0.9693, 0.5489, 0.3585, 0.4156, 0.8314, 0.2915, 0.7733, 0.3318, 0.5801,\n",
       "        0.5934, 0.4653, 0.6204, 0.6172, 0.4855, 0.3667, 0.5636, 0.7832, 0.8223,\n",
       "        0.7785, 0.7564, 0.4647, 0.7354, 0.4887, 0.7469, 0.6227, 0.3681, 0.7751,\n",
       "        0.5436, 0.8051, 0.5861, 0.5957, 0.5227, 0.3127, 0.5420, 0.9382, 0.8124,\n",
       "        0.7151, 0.2958, 0.4861, 0.5968, 0.5372, 0.5762, 0.4064, 0.3223, 0.2882,\n",
       "        0.6019, 0.4018, 0.2089, 0.5688, 0.6100, 0.3717, 0.5935, 0.3517, 0.6694,\n",
       "        0.2632, 0.5903, 0.9402, 0.5231, 0.4335, 0.4826, 0.6742, 0.4860, 0.7722,\n",
       "        0.9914, 0.8101, 0.9159, 0.7243, 0.6975, 0.7280, 0.9063, 0.1309, 0.6139,\n",
       "        0.4309, 0.3829, 0.2258, 0.6199, 0.6457, 0.4029, 0.5997, 0.4023, 0.7072,\n",
       "        0.6513, 0.4333, 0.1773, 0.2509, 0.7328, 0.5626, 0.7562, 0.3961, 0.6549,\n",
       "        0.3924, 0.1837, 0.9434, 0.8420, 0.5307, 0.5870, 0.6758, 0.2900, 0.9280,\n",
       "        0.7810, 0.4441, 0.8926, 0.4362, 0.3441, 0.7262, 0.4505, 0.4191, 0.2518,\n",
       "        0.2011, 0.3843, 0.5014, 0.4264, 0.8813, 0.6893, 0.4066, 0.5793, 0.5298,\n",
       "        0.6291, 0.6156, 0.5898, 0.4744, 0.5853, 0.5393, 0.5263, 0.1934, 0.2409,\n",
       "        0.3444, 1.0000, 0.9563, 0.4445, 0.3222, 0.7586, 0.3520, 0.8497, 0.3941,\n",
       "        0.8493, 0.9276, 0.6895, 0.5902, 0.8326, 0.3187, 0.9730, 0.2967, 0.7385,\n",
       "        0.5822, 0.9765, 0.5678, 0.4272, 0.7892, 0.3825, 0.7431, 0.6068, 0.4596,\n",
       "        0.4445, 0.8237, 0.3547, 0.7647, 0.7884, 0.8247, 0.6512, 0.5406, 0.5803,\n",
       "        0.4149, 0.6815, 0.8651, 0.6763, 0.7437, 0.4108, 0.7462, 0.4135, 0.8584,\n",
       "        0.7198, 0.3077, 0.8616, 0.9960, 0.6432, 0.7088, 0.7858, 0.4254, 0.6334,\n",
       "        0.8337, 0.8051, 0.9690, 0.9184, 0.9932, 0.8317, 0.8817, 0.5240, 0.9750,\n",
       "        0.5245, 0.8012, 0.6617, 0.5783, 0.9110, 0.1760, 0.4239, 0.9949, 0.5638,\n",
       "        0.8773, 0.4029, 0.5356, 0.5972, 0.5516, 0.6195, 0.6617, 0.0613, 0.8174,\n",
       "        0.7520, 0.2671, 0.3870, 0.7441, 0.5019, 0.7201, 0.4092, 0.8140, 0.4601,\n",
       "        0.6043, 0.3895, 0.9169, 0.5540, 0.3963, 0.5470, 0.3904, 0.3623, 0.5581,\n",
       "        0.4133, 0.4729, 0.9631, 0.8528, 0.4000, 0.5341, 0.4461, 0.3631, 0.9432,\n",
       "        0.4599, 0.2442, 0.2663, 0.3363, 0.3359, 0.6186, 0.6969, 0.7350, 0.3779,\n",
       "        0.6591, 0.8284, 0.3788, 0.6063, 0.4922, 0.4522, 0.4892, 0.7080, 0.5576,\n",
       "        0.8077, 0.7011, 0.3945, 0.6550, 0.5320, 0.4624, 0.4774, 0.8391, 0.7199,\n",
       "        0.9568, 0.6922, 0.7815, 0.5045, 0.2849, 0.3835, 0.8871, 0.5654, 0.8183,\n",
       "        0.6867, 0.4312, 0.2979, 0.9012, 0.7554, 0.6308, 0.5309, 0.5240, 0.9075,\n",
       "        0.2715, 0.7675, 0.6184, 0.6885, 0.3860, 0.4053, 0.5208, 0.2874, 0.6857,\n",
       "        0.5939, 0.9235, 0.5490, 0.4776, 0.6944, 0.1611, 0.8241, 0.8758, 0.7323,\n",
       "        0.8791, 0.9295, 0.5246, 0.6536, 0.6444, 0.2652, 0.9660, 0.7675, 0.3494,\n",
       "        0.7411, 0.0908, 0.7595, 0.7476, 0.6544, 0.8388, 0.5531, 0.1608, 0.6717,\n",
       "        0.2440, 0.4492, 0.3696, 0.6305, 0.8928, 0.2688, 0.4293, 0.7164, 0.2130,\n",
       "        0.6524, 0.5537, 0.5889, 0.9281, 0.3702, 0.5471, 0.1770, 0.3375, 0.5335,\n",
       "        0.8805, 0.7841, 0.2019, 0.8342, 0.6974, 0.7727, 0.5186, 0.4665, 0.5544,\n",
       "        0.4832, 0.6696, 0.1945, 0.6289, 0.9840, 0.8421, 0.5789, 0.6862, 0.7938,\n",
       "        0.3519, 0.5896, 0.5153, 0.4291, 0.4689, 0.4784, 0.5101, 0.2502, 0.4275,\n",
       "        0.2657, 0.3932, 0.3809, 0.4158, 0.9475, 0.8891, 0.3567, 0.7626, 0.7220,\n",
       "        0.7764, 0.7831, 0.6731, 0.8505, 0.7508, 0.3923, 0.9085, 0.2735, 0.9540,\n",
       "        0.2233, 0.5163, 0.4746, 0.5706, 0.4959, 0.7155, 0.5711, 0.3397, 0.4234,\n",
       "        0.8034, 0.5878, 0.5818, 0.6845, 0.5240, 0.8070, 0.6730, 0.2394, 0.4899,\n",
       "        0.5634, 0.7645, 0.6422, 0.9585, 0.3635, 0.5051, 0.3889, 0.8578, 0.3437,\n",
       "        0.4660, 0.5960, 0.3026, 0.8486, 0.5268, 0.1509, 0.3890, 0.9007, 0.3681,\n",
       "        0.5424, 0.7044, 0.5346, 0.9663, 0.6933, 0.6589, 0.5235, 0.7376, 0.4845,\n",
       "        0.7546, 0.4248, 0.7038, 0.5725, 0.7710, 0.4598, 0.6828, 0.6158, 0.8430,\n",
       "        0.9583, 0.5064, 0.5500, 0.4020, 0.7456, 0.8115, 0.4969, 0.9069, 0.7597,\n",
       "        0.9144, 0.7250, 0.7800, 0.2615, 0.6723, 0.7123, 0.4957, 0.5323, 0.6502,\n",
       "        0.5037, 0.8247, 0.5587, 0.2651, 0.7188, 0.8932, 0.3648, 0.4655, 0.5632,\n",
       "        0.9181, 0.5201, 0.8313, 0.6639, 0.6574, 0.4042, 0.1504, 0.8316, 0.4211,\n",
       "        0.7412, 0.7853, 0.9939, 0.1854, 0.4700, 0.9977, 0.6494, 0.6131, 0.7575,\n",
       "        0.5587, 0.2885, 0.3940, 0.7544, 0.6347, 0.8293, 0.6297, 0.6914, 0.7119,\n",
       "        0.5035, 0.6625, 0.5222, 0.7106, 0.9095, 0.4266, 0.4657, 0.4591, 0.5218,\n",
       "        0.5518, 0.6937, 0.3421, 0.5971, 0.2328, 0.2675, 0.9992, 0.7225, 0.1174,\n",
       "        0.6069, 0.6728, 0.6912, 0.6589, 0.4998, 0.6463, 0.8524, 0.7682, 0.1554,\n",
       "        0.5925, 0.8783, 0.7715, 0.9025, 0.5557, 0.8568, 0.9570, 0.9910, 0.3700,\n",
       "        0.4382, 0.7016, 0.7472, 0.4117, 0.5993, 0.7732, 0.5963, 0.9842, 0.2570,\n",
       "        0.8262, 0.3682, 0.7312, 0.9833, 0.4887, 0.6522, 0.6088, 0.9810, 0.4226,\n",
       "        0.7750])"
      ]
     },
     "execution_count": 96,
     "metadata": {},
     "output_type": "execute_result"
    }
   ],
   "source": [
    "prob_z"
   ]
  },
  {
   "cell_type": "code",
   "execution_count": 94,
   "metadata": {},
   "outputs": [
    {
     "data": {
      "text/plain": [
       "[tensor(-2703261.7500),\n",
       " tensor(-141182.8125),\n",
       " tensor(-141136.8906),\n",
       " tensor(-141129.5000),\n",
       " tensor(-141128.4375),\n",
       " tensor(-141128.2656),\n",
       " tensor(-141128.2344),\n",
       " tensor(-141128.2188),\n",
       " tensor(-141128.2188),\n",
       " tensor(-141128.2188),\n",
       " tensor(-141128.2188),\n",
       " tensor(-141128.2344),\n",
       " tensor(-141128.2188),\n",
       " tensor(-141128.2188),\n",
       " tensor(-141128.2188)]"
      ]
     },
     "execution_count": 94,
     "metadata": {},
     "output_type": "execute_result"
    }
   ],
   "source": [
    "lld"
   ]
  },
  {
   "cell_type": "code",
   "execution_count": 82,
   "metadata": {},
   "outputs": [
    {
     "ename": "KeyboardInterrupt",
     "evalue": "",
     "output_type": "error",
     "traceback": [
      "\u001b[0;31m---------------------------------------------------------------------------\u001b[0m",
      "\u001b[0;31mKeyboardInterrupt\u001b[0m                         Traceback (most recent call last)",
      "\u001b[0;32m<ipython-input-82-027b817c4604>\u001b[0m in \u001b[0;36m<module>\u001b[0;34m\u001b[0m\n\u001b[0;32m----> 1\u001b[0;31m \u001b[0mbeta\u001b[0m\u001b[0;34m,\u001b[0m \u001b[0mbeta_c\u001b[0m\u001b[0;34m,\u001b[0m \u001b[0ms2\u001b[0m\u001b[0;34m,\u001b[0m \u001b[0mprob_z\u001b[0m\u001b[0;34m,\u001b[0m \u001b[0mlld\u001b[0m \u001b[0;34m=\u001b[0m \u001b[0mimputer\u001b[0m\u001b[0;34m.\u001b[0m\u001b[0m_em_otf_per_snp\u001b[0m\u001b[0;34m(\u001b[0m\u001b[0mfmat\u001b[0m\u001b[0;34m,\u001b[0m \u001b[0mmmat\u001b[0m\u001b[0;34m,\u001b[0m \u001b[0mhh1\u001b[0m\u001b[0;34m,\u001b[0m \u001b[0mhh2\u001b[0m\u001b[0;34m,\u001b[0m \u001b[0mposmat\u001b[0m\u001b[0;34m,\u001b[0m \u001b[0mcovar\u001b[0m\u001b[0;34m=\u001b[0m\u001b[0mcmat\u001b[0m\u001b[0;34m)\u001b[0m\u001b[0;34m\u001b[0m\u001b[0;34m\u001b[0m\u001b[0m\n\u001b[0m",
      "\u001b[0;32m~/Documents/repo/github/haplotype-po/scripts/haplotype_imputation/haplotype_imputer.py\u001b[0m in \u001b[0;36m_em_otf_per_snp\u001b[0;34m(self, yf, ym, h1, h2, pos, covar, device, tol, maxiter)\u001b[0m\n\u001b[1;32m    572\u001b[0m \u001b[0;34m\u001b[0m\u001b[0m\n\u001b[1;32m    573\u001b[0m             \u001b[0;31m# E step\u001b[0m\u001b[0;34m\u001b[0m\u001b[0;34m\u001b[0m\u001b[0;34m\u001b[0m\u001b[0m\n\u001b[0;32m--> 574\u001b[0;31m             \u001b[0ml0\u001b[0m\u001b[0;34m,\u001b[0m \u001b[0ml1\u001b[0m \u001b[0;34m=\u001b[0m \u001b[0mself\u001b[0m\u001b[0;34m.\u001b[0m\u001b[0m_calc_l_per_snp\u001b[0m\u001b[0;34m(\u001b[0m\u001b[0myf\u001b[0m\u001b[0;34m,\u001b[0m \u001b[0mym\u001b[0m\u001b[0;34m,\u001b[0m \u001b[0mh1\u001b[0m\u001b[0;34m,\u001b[0m \u001b[0mh2\u001b[0m\u001b[0;34m,\u001b[0m \u001b[0mcovar_mat\u001b[0m\u001b[0;34m,\u001b[0m \u001b[0mpos\u001b[0m\u001b[0;34m,\u001b[0m \u001b[0mbeta\u001b[0m\u001b[0;34m,\u001b[0m \u001b[0mbeta_c\u001b[0m\u001b[0;34m,\u001b[0m \u001b[0msigma2\u001b[0m\u001b[0;34m)\u001b[0m\u001b[0;34m\u001b[0m\u001b[0;34m\u001b[0m\u001b[0m\n\u001b[0m\u001b[1;32m    575\u001b[0m             \u001b[0;31m# breakpoint()\u001b[0m\u001b[0;34m\u001b[0m\u001b[0;34m\u001b[0m\u001b[0;34m\u001b[0m\u001b[0m\n\u001b[1;32m    576\u001b[0m             \u001b[0mlld_curr\u001b[0m \u001b[0;34m=\u001b[0m \u001b[0mself\u001b[0m\u001b[0;34m.\u001b[0m\u001b[0m_eval_lld_per_snp\u001b[0m\u001b[0;34m(\u001b[0m\u001b[0ml0\u001b[0m\u001b[0;34m,\u001b[0m \u001b[0ml1\u001b[0m\u001b[0;34m,\u001b[0m \u001b[0msigma2\u001b[0m\u001b[0;34m,\u001b[0m \u001b[0mn\u001b[0m\u001b[0;34m)\u001b[0m\u001b[0;34m\u001b[0m\u001b[0;34m\u001b[0m\u001b[0m\n",
      "\u001b[0;32m~/Documents/repo/github/haplotype-po/scripts/haplotype_imputation/haplotype_imputer.py\u001b[0m in \u001b[0;36m_calc_l_per_snp\u001b[0;34m(self, yf, ym, h1, h2, covar_mat, pos, beta, beta_c, sigma2)\u001b[0m\n\u001b[1;32m    398\u001b[0m             \u001b[0msigma2_f_\u001b[0m \u001b[0;34m=\u001b[0m \u001b[0msigma2\u001b[0m\u001b[0;34m[\u001b[0m\u001b[0;36m0\u001b[0m\u001b[0;34m]\u001b[0m\u001b[0;34m[\u001b[0m\u001b[0mmask_\u001b[0m\u001b[0;34m,\u001b[0m \u001b[0;34m:\u001b[0m\u001b[0;34m]\u001b[0m\u001b[0;34m[\u001b[0m\u001b[0;34m:\u001b[0m\u001b[0;34m,\u001b[0m \u001b[0mpi\u001b[0m\u001b[0;34m]\u001b[0m\u001b[0;34m\u001b[0m\u001b[0;34m\u001b[0m\u001b[0m\n\u001b[1;32m    399\u001b[0m             \u001b[0msigma2_m_\u001b[0m \u001b[0;34m=\u001b[0m \u001b[0msigma2\u001b[0m\u001b[0;34m[\u001b[0m\u001b[0;36m1\u001b[0m\u001b[0;34m]\u001b[0m\u001b[0;34m[\u001b[0m\u001b[0mmask_\u001b[0m\u001b[0;34m,\u001b[0m \u001b[0;34m:\u001b[0m\u001b[0;34m]\u001b[0m\u001b[0;34m[\u001b[0m\u001b[0;34m:\u001b[0m\u001b[0;34m,\u001b[0m \u001b[0mpi\u001b[0m\u001b[0;34m]\u001b[0m\u001b[0;34m\u001b[0m\u001b[0;34m\u001b[0m\u001b[0m\n\u001b[0;32m--> 400\u001b[0;31m             \u001b[0ml0_\u001b[0m\u001b[0;34m,\u001b[0m \u001b[0ml1_\u001b[0m \u001b[0;34m=\u001b[0m \u001b[0mself\u001b[0m\u001b[0;34m.\u001b[0m\u001b[0m__calc_l_per_snp_one_y\u001b[0m\u001b[0;34m(\u001b[0m\u001b[0my1_\u001b[0m\u001b[0;34m,\u001b[0m \u001b[0my2_\u001b[0m\u001b[0;34m,\u001b[0m \u001b[0mh1_\u001b[0m\u001b[0;34m,\u001b[0m \u001b[0mh2_\u001b[0m\u001b[0;34m,\u001b[0m \u001b[0mcovar_mat\u001b[0m\u001b[0;34m,\u001b[0m \u001b[0;34m[\u001b[0m\u001b[0mbeta_f_\u001b[0m\u001b[0;34m,\u001b[0m \u001b[0mbeta_m_\u001b[0m\u001b[0;34m]\u001b[0m\u001b[0;34m,\u001b[0m \u001b[0;34m[\u001b[0m\u001b[0mbeta_c_f_\u001b[0m\u001b[0;34m,\u001b[0m \u001b[0mbeta_c_m_\u001b[0m\u001b[0;34m]\u001b[0m\u001b[0;34m,\u001b[0m \u001b[0;34m[\u001b[0m\u001b[0msigma2_f_\u001b[0m\u001b[0;34m,\u001b[0m \u001b[0msigma2_m_\u001b[0m\u001b[0;34m]\u001b[0m\u001b[0;34m)\u001b[0m\u001b[0;34m\u001b[0m\u001b[0;34m\u001b[0m\u001b[0m\n\u001b[0m\u001b[1;32m    401\u001b[0m             \u001b[0ml1\u001b[0m \u001b[0;34m=\u001b[0m \u001b[0ml1\u001b[0m \u001b[0;34m+\u001b[0m \u001b[0ml1_\u001b[0m\u001b[0;34m\u001b[0m\u001b[0;34m\u001b[0m\u001b[0m\n\u001b[1;32m    402\u001b[0m             \u001b[0ml0\u001b[0m \u001b[0;34m=\u001b[0m \u001b[0ml0\u001b[0m \u001b[0;34m+\u001b[0m \u001b[0ml0_\u001b[0m\u001b[0;34m\u001b[0m\u001b[0;34m\u001b[0m\u001b[0m\n",
      "\u001b[0;32m~/Documents/repo/github/haplotype-po/scripts/haplotype_imputation/haplotype_imputer.py\u001b[0m in \u001b[0;36m__calc_l_per_snp_one_y\u001b[0;34m(self, yf, ym, h1, h2, c, beta, beta_c, sigma2)\u001b[0m\n\u001b[1;32m    409\u001b[0m         \u001b[0mrm1\u001b[0m\u001b[0;34m,\u001b[0m \u001b[0mrm0\u001b[0m \u001b[0;34m=\u001b[0m \u001b[0mself\u001b[0m\u001b[0;34m.\u001b[0m\u001b[0m__get_residual\u001b[0m\u001b[0;34m(\u001b[0m\u001b[0mym\u001b[0m\u001b[0;34m,\u001b[0m \u001b[0mym\u001b[0m\u001b[0;34m,\u001b[0m \u001b[0mh2\u001b[0m\u001b[0;34m,\u001b[0m \u001b[0mh1\u001b[0m\u001b[0;34m,\u001b[0m \u001b[0mc\u001b[0m\u001b[0;34m,\u001b[0m \u001b[0mc\u001b[0m\u001b[0;34m,\u001b[0m \u001b[0mbeta\u001b[0m\u001b[0;34m[\u001b[0m\u001b[0;36m1\u001b[0m\u001b[0;34m]\u001b[0m\u001b[0;34m,\u001b[0m \u001b[0mbeta_c\u001b[0m\u001b[0;34m[\u001b[0m\u001b[0;36m1\u001b[0m\u001b[0;34m]\u001b[0m\u001b[0;34m)\u001b[0m\u001b[0;34m\u001b[0m\u001b[0;34m\u001b[0m\u001b[0m\n\u001b[1;32m    410\u001b[0m         \u001b[0ml1\u001b[0m \u001b[0;34m=\u001b[0m \u001b[0mself\u001b[0m\u001b[0;34m.\u001b[0m\u001b[0m_neg_residual_t_residual_div_2_sigma2_per_snp\u001b[0m\u001b[0;34m(\u001b[0m\u001b[0mrf1\u001b[0m\u001b[0;34m,\u001b[0m \u001b[0ms2f_\u001b[0m\u001b[0;34m)\u001b[0m \u001b[0;34m+\u001b[0m \u001b[0mself\u001b[0m\u001b[0;34m.\u001b[0m\u001b[0m_neg_residual_t_residual_div_2_sigma2_per_snp\u001b[0m\u001b[0;34m(\u001b[0m\u001b[0mrm1\u001b[0m\u001b[0;34m,\u001b[0m \u001b[0ms2m_\u001b[0m\u001b[0;34m)\u001b[0m\u001b[0;34m\u001b[0m\u001b[0;34m\u001b[0m\u001b[0m\n\u001b[0;32m--> 411\u001b[0;31m         \u001b[0ml0\u001b[0m \u001b[0;34m=\u001b[0m \u001b[0mself\u001b[0m\u001b[0;34m.\u001b[0m\u001b[0m_neg_residual_t_residual_div_2_sigma2_per_snp\u001b[0m\u001b[0;34m(\u001b[0m\u001b[0mrf0\u001b[0m\u001b[0;34m,\u001b[0m \u001b[0ms2f_\u001b[0m\u001b[0;34m)\u001b[0m \u001b[0;34m+\u001b[0m \u001b[0mself\u001b[0m\u001b[0;34m.\u001b[0m\u001b[0m_neg_residual_t_residual_div_2_sigma2_per_snp\u001b[0m\u001b[0;34m(\u001b[0m\u001b[0mrm0\u001b[0m\u001b[0;34m,\u001b[0m \u001b[0ms2m_\u001b[0m\u001b[0;34m)\u001b[0m\u001b[0;34m\u001b[0m\u001b[0;34m\u001b[0m\u001b[0m\n\u001b[0m\u001b[1;32m    412\u001b[0m         \u001b[0;31m# breakpoint()\u001b[0m\u001b[0;34m\u001b[0m\u001b[0;34m\u001b[0m\u001b[0;34m\u001b[0m\u001b[0m\n\u001b[1;32m    413\u001b[0m         \u001b[0;32mreturn\u001b[0m \u001b[0ml0\u001b[0m\u001b[0;34m,\u001b[0m \u001b[0ml1\u001b[0m\u001b[0;34m\u001b[0m\u001b[0;34m\u001b[0m\u001b[0m\n",
      "\u001b[0;32m~/Documents/repo/github/haplotype-po/scripts/haplotype_imputation/haplotype_imputer.py\u001b[0m in \u001b[0;36m_neg_residual_t_residual_div_2_sigma2_per_snp\u001b[0;34m(self, res, s2)\u001b[0m\n\u001b[1;32m    420\u001b[0m         '''\n\u001b[1;32m    421\u001b[0m         \u001b[0;31m# breakpoint()\u001b[0m\u001b[0;34m\u001b[0m\u001b[0;34m\u001b[0m\u001b[0;34m\u001b[0m\u001b[0m\n\u001b[0;32m--> 422\u001b[0;31m         \u001b[0mo\u001b[0m \u001b[0;34m=\u001b[0m \u001b[0;34m-\u001b[0m \u001b[0mtorch\u001b[0m\u001b[0;34m.\u001b[0m\u001b[0mpow\u001b[0m\u001b[0;34m(\u001b[0m\u001b[0mres\u001b[0m\u001b[0;34m,\u001b[0m \u001b[0;36m2\u001b[0m\u001b[0;34m)\u001b[0m \u001b[0;34m/\u001b[0m \u001b[0;36m2\u001b[0m \u001b[0;34m/\u001b[0m \u001b[0ms2\u001b[0m\u001b[0;34m[\u001b[0m\u001b[0;32mNone\u001b[0m\u001b[0;34m,\u001b[0m \u001b[0;34m:\u001b[0m\u001b[0;34m]\u001b[0m\u001b[0;34m\u001b[0m\u001b[0;34m\u001b[0m\u001b[0m\n\u001b[0m\u001b[1;32m    423\u001b[0m         \u001b[0;32mreturn\u001b[0m \u001b[0mo\u001b[0m\u001b[0;34m.\u001b[0m\u001b[0msum\u001b[0m\u001b[0;34m(\u001b[0m\u001b[0maxis\u001b[0m\u001b[0;34m=\u001b[0m\u001b[0;36m1\u001b[0m\u001b[0;34m)\u001b[0m\u001b[0;34m\u001b[0m\u001b[0;34m\u001b[0m\u001b[0m\n\u001b[1;32m    424\u001b[0m \u001b[0;34m\u001b[0m\u001b[0m\n",
      "\u001b[0;31mKeyboardInterrupt\u001b[0m: "
     ]
    }
   ],
   "source": [
    "# beta, beta_c, s2, prob_z, lld = imputer._em_otf_per_snp(fmat, mmat, hh1, hh2, posmat, covar=cmat)"
   ]
  },
  {
   "cell_type": "code",
   "execution_count": 74,
   "metadata": {},
   "outputs": [],
   "source": [
    "# self._update_beta_and_sigma2_per_snp(beta, beta_c, sigma2, h1, h2, yf, ym, gamma, pos, covar_mat, HtH, CtH, CtC, CtYf, CtYm, n)"
   ]
  },
  {
   "cell_type": "code",
   "execution_count": 83,
   "metadata": {},
   "outputs": [],
   "source": [
    "beta2, s22, prob_z2, lld2 = imputer._em_otf(yf, ym, h1, h2, pos)"
   ]
  },
  {
   "cell_type": "code",
   "execution_count": 85,
   "metadata": {},
   "outputs": [
    {
     "data": {
      "text/plain": [
       "[tensor(-513208.6250),\n",
       " tensor(-27366.9570),\n",
       " tensor(-27331.6426),\n",
       " tensor(-27321.7266),\n",
       " tensor(-27319.6074),\n",
       " tensor(-27319.1836),\n",
       " tensor(-27319.0977),\n",
       " tensor(-27319.0742),\n",
       " tensor(-27319.0703),\n",
       " tensor(-27319.0664),\n",
       " tensor(-27319.0645),\n",
       " tensor(-27319.0645),\n",
       " tensor(-27319.0645),\n",
       " tensor(-27319.0664),\n",
       " tensor(-27319.0645)]"
      ]
     },
     "execution_count": 85,
     "metadata": {},
     "output_type": "execute_result"
    }
   ],
   "source": [
    "lld2"
   ]
  },
  {
   "cell_type": "code",
   "execution_count": 99,
   "metadata": {},
   "outputs": [
    {
     "data": {
      "text/plain": [
       "(array([  4.,  26.,  57., 101., 142., 169., 143., 154., 115.,  89.]),\n",
       " array([0. , 0.1, 0.2, 0.3, 0.4, 0.5, 0.6, 0.7, 0.8, 0.9, 1. ]),\n",
       " <a list of 10 Patch objects>)"
      ]
     },
     "execution_count": 99,
     "metadata": {},
     "output_type": "execute_result"
    },
    {
     "data": {
      "image/png": "[encoded data removed]",
      "text/plain": [
       "<Figure size 432x288 with 1 Axes>"
      ]
     },
     "metadata": {
      "needs_background": "light"
     },
     "output_type": "display_data"
    }
   ],
   "source": [
    "plt.hist(prob_z, bins=np.arange(0, 1.1, 0.1))#;plt.hist(prob_z2)"
   ]
  },
  {
   "cell_type": "code",
   "execution_count": 147,
   "metadata": {},
   "outputs": [
    {
     "data": {
      "text/plain": [
       "tensor([0.4025, 0.6460, 0.5069, 0.5301, 0.3135, 0.4510, 0.6819, 0.5437, 0.3651,\n",
       "        0.5338])"
      ]
     },
     "execution_count": 147,
     "metadata": {},
     "output_type": "execute_result"
    }
   ],
   "source": [
    "prob_z[:10]"
   ]
  },
  {
   "cell_type": "code",
   "execution_count": 105,
   "metadata": {},
   "outputs": [
    {
     "data": {
      "text/plain": [
       "tensor([0.9478, 0.1671, 0.6851, 0.9820, 0.9430, 0.9698, 0.9997, 0.9649, 0.9935,\n",
       "        0.5892])"
      ]
     },
     "execution_count": 105,
     "metadata": {},
     "output_type": "execute_result"
    }
   ],
   "source": [
    "prob_z[:10]"
   ]
  },
  {
   "cell_type": "code",
   "execution_count": 26,
   "metadata": {},
   "outputs": [
    {
     "data": {
      "text/plain": [
       "tensor([1.0000, 0.1730, 0.1730])"
      ]
     },
     "execution_count": 26,
     "metadata": {},
     "output_type": "execute_result"
    }
   ],
   "source": [
    "s2[0][:3, 1] "
   ]
  },
  {
   "cell_type": "code",
   "execution_count": 100,
   "metadata": {},
   "outputs": [
    {
     "data": {
      "text/plain": [
       "array([18.87695472, 19.83424696, 22.61040963, 22.42573689, 34.4996195 ])"
      ]
     },
     "execution_count": 100,
     "metadata": {},
     "output_type": "execute_result"
    }
   ],
   "source": [
    "np.std(yf,axis=0)**2"
   ]
  },
  {
   "cell_type": "code",
   "execution_count": 85,
   "metadata": {},
   "outputs": [
    {
     "data": {
      "text/plain": [
       "tensor([-0.0511, -0.2751,  0.1317,  0.0059,  0.0729])"
      ]
     },
     "execution_count": 85,
     "metadata": {},
     "output_type": "execute_result"
    }
   ],
   "source": [
    "beta[1][0, ]"
   ]
  },
  {
   "cell_type": "code",
   "execution_count": 83,
   "metadata": {},
   "outputs": [
    {
     "data": {
      "text/plain": [
       "tensor([[ 1.5734,  0.6565, -1.0499,  0.7494, -0.3730],\n",
       "        [ 0.8488,  2.7596,  0.0840, -2.0849,  0.3817],\n",
       "        [-2.3592, -0.4111,  0.4409, -0.3439, -0.3438],\n",
       "        [-0.5890, -0.5046,  0.5690,  1.2379, -0.7125],\n",
       "        [ 1.8498, -0.2226,  0.0563, -0.1733, -0.9396],\n",
       "        [ 0.2906, -0.0939, -1.0328, -0.3603,  2.0336],\n",
       "        [-0.8505,  0.1600,  1.8252, -0.4377,  0.3882],\n",
       "        [ 0.8530,  0.1031,  0.1203,  0.8770,  0.5227],\n",
       "        [ 0.1525, -1.4926, -0.3904,  0.4784, -0.3612],\n",
       "        [ 0.0679,  0.8346,  0.6266, -0.3765, -0.4372]])"
      ]
     },
     "execution_count": 83,
     "metadata": {},
     "output_type": "execute_result"
    }
   ],
   "source": [
    "beta[1][1:, ]"
   ]
  },
  {
   "cell_type": "code",
   "execution_count": 84,
   "metadata": {
    "scrolled": true
   },
   "outputs": [
    {
     "data": {
      "text/plain": [
       "array([[ 1.62539411,  0.74115887, -1.04523833,  0.5974547 , -0.22710973],\n",
       "       [ 0.72872247,  2.90150337,  0.38132325, -1.89776903,  0.25075529],\n",
       "       [-2.27146935, -0.48853157,  0.32425916, -0.38737013, -0.44650675],\n",
       "       [-0.42014121, -0.40082941,  0.48190944,  1.1332377 , -1.16187146],\n",
       "       [ 1.79612065, -0.24787795, -0.15765477, -0.20847491, -1.10067232],\n",
       "       [ 0.21846583, -0.31218812, -1.18578395, -0.510773  ,  2.16673526],\n",
       "       [-0.87576923,  0.40282281,  1.7028955 , -0.55898598,  0.36299726],\n",
       "       [ 0.7498979 ,  0.21905225,  0.10318858,  0.77007957,  0.56465488],\n",
       "       [-0.18159615, -1.63762798, -0.59793144,  0.45864035, -0.38369045],\n",
       "       [ 0.18187011,  0.6489863 ,  0.52330609, -0.64756826, -0.56390278]])"
      ]
     },
     "execution_count": 84,
     "metadata": {},
     "output_type": "execute_result"
    }
   ],
   "source": [
    "beta_m"
   ]
  },
  {
   "cell_type": "code",
   "execution_count": 90,
   "metadata": {},
   "outputs": [
    {
     "name": "stdout",
     "output_type": "stream",
     "text": [
      "tensor([-0.0556,  0.2435, -0.2615,  0.1946, -0.0744]) \n",
      " tensor([[-0.9720, -0.3224, -0.4751, -0.6717, -0.0405],\n",
      "        [-0.7953,  0.3706, -0.3211,  0.2105, -2.3085],\n",
      "        [ 0.1561, -0.2180,  0.8500, -1.6948,  1.5183],\n",
      "        [ 0.0750,  0.6364, -0.6882, -0.3496, -1.9532],\n",
      "        [ 0.5400,  0.4088,  0.7151, -0.2463, -0.1674],\n",
      "        [ 0.4105, -0.0905, -0.4424, -0.1496,  0.6410],\n",
      "        [ 0.1220,  0.0436,  0.2169,  0.5039, -0.3317],\n",
      "        [-0.1434, -0.7615, -0.1523, -0.2404,  0.7798],\n",
      "        [ 0.6071, -1.5976, -1.7286,  1.9217, -1.3230],\n",
      "        [ 0.6118, -0.4791,  0.9867,  0.0941, -2.1622]]) \n",
      " [[-1.04931527 -0.1525258  -0.69260009 -0.79646541  0.06462753]\n",
      " [-0.91284777  0.5220969  -0.23583616  0.15162415 -1.92049169]\n",
      " [ 0.12946536 -0.16038252  0.8163232  -1.65159379  1.46592198]\n",
      " [-0.16085461  0.77096508 -0.83569143 -0.36423467 -1.81669276]\n",
      " [ 0.55900223  0.3333998   0.60235426 -0.40672159 -0.27044805]\n",
      " [ 0.34872234 -0.12281894 -0.30270459 -0.25706592  0.72303256]\n",
      " [ 0.10846239  0.13069887  0.24813109  0.65609146 -0.35582842]\n",
      " [-0.05159976 -0.73705769 -0.22365691 -0.06661309  1.26778174]\n",
      " [ 0.6121557  -1.48150619 -1.6317403   1.9919998  -1.37492166]\n",
      " [ 0.69613011 -0.36762986  1.01468595  0.23517545 -2.14415612]]\n"
     ]
    }
   ],
   "source": [
    "print(beta[0][0, ], '\\n', beta[0][1:, ], '\\n', beta_f)"
   ]
  }
 ],
 "metadata": {
  "kernelspec": {
   "display_name": "Python 3",
   "language": "python",
   "name": "python3"
  },
  "language_info": {
   "codemirror_mode": {
    "name": "ipython",
    "version": 3
   },
   "file_extension": ".py",
   "mimetype": "text/x-python",
   "name": "python",
   "nbconvert_exporter": "python",
   "pygments_lexer": "ipython3",
   "version": "3.7.1"
  }
 },
 "nbformat": 4,
 "nbformat_minor": 4
}
