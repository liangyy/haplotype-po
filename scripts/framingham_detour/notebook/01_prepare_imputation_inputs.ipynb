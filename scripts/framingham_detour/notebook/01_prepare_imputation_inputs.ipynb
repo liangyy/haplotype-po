{
 "cells": [
  {
   "cell_type": "markdown",
   "metadata": {},
   "source": [
    "Here we prepare tables for imputation.\n",
    "We need the following tables:\n",
    "\n",
    "1. observed expression (indiv x gene) for father and mother\n",
    "2. predicted expression (indiv x gene) for each of the two haplotypes\n",
    "3. covariates (indiv x covariate)\n",
    "\n",
    "That's it!\n",
    "One thing to keep in mind is that we need to make sure that the individuals and genes have the same ID annotation across tables.\n",
    "In the Framingham data, I use SampleID for individual and ensembl ID for gene.\n",
    "\n",
    "We don't format all data in this notebook. \n",
    "The actually formatting will be on the fly. \n",
    "This is for experimenting ideas.\n",
    "\n",
    "What I do format are:\n",
    "\n",
    "1. covariate matrix\n",
    "2. annotate observed expression with ensembl ID"
   ]
  },
  {
   "cell_type": "code",
   "execution_count": 1,
   "metadata": {},
   "outputs": [],
   "source": [
    "import pandas as pd\n",
    "import gzip, os"
   ]
  },
  {
   "cell_type": "code",
   "execution_count": 2,
   "metadata": {},
   "outputs": [],
   "source": [
    "# individual to work with\n",
    "active_individual_list_out = '/lambda_stor/data/yanyul/Framingham/haplotype_po_framingham/preprocess/all_indiv_w_genotype.txt'\n",
    "pedigree_out = '/lambda_stor/data/yanyul/Framingham/haplotype_po_framingham/preprocess/extracted_pedigree.tsv.gz'\n",
    "\n",
    "# gene link\n",
    "gene_list_out = '/lambda_stor/data/yanyul/Framingham/haplotype_po_framingham/preprocess/microarray_gene_annotation.tsv'\n",
    "\n",
    "# observed expression\n",
    "expression_full_out = '/lambda_stor/data/yanyul/Framingham/haplotype_po_framingham/preprocess/expression.all_indiv_w_genotype.tsv.gz'\n",
    "\n",
    "# predicted expression\n",
    "pred_expr_out = [\n",
    "    '/lambda_stor/data/yanyul/Framingham/haplotype_po_framingham/pred_expr/gtex_v8_Whole_Blood_en.pred_expr.txt.gz',\n",
    "    '/lambda_stor/data/yanyul/Framingham/haplotype_po_framingham/pred_expr/gtex_v8_Whole_Blood_dapgw.pred_expr.txt.gz'\n",
    "]\n",
    "\n",
    "# covariates\n",
    "peer_value_out = '/lambda_stor/data/yanyul/Framingham/haplotype_po_framingham/peer/peer_on_obs_expr_all_indiv_w_genotype/X.csv'\n",
    "peer_indiv_list = '/lambda_stor/data/yanyul/Framingham/haplotype_po_framingham/preprocess/expression.all_indiv_w_genotype.tsv.gz'\n",
    "pca_out = '/lambda_stor/data/yanyul/Framingham/haplotype_po_framingham/pca/pca_on_all_indiv_w_genotype.eigenvec'\n"
   ]
  },
  {
   "cell_type": "code",
   "execution_count": 3,
   "metadata": {},
   "outputs": [],
   "source": [
    "covar_out = '/lambda_stor/data/yanyul/Framingham/haplotype_po_framingham/prepare_for_imputation/covariate.tsv.gz'\n",
    "obs_expr_out = '/lambda_stor/data/yanyul/Framingham/haplotype_po_framingham/prepare_for_imputation/obs_expr.tsv.gz'"
   ]
  },
  {
   "cell_type": "markdown",
   "metadata": {},
   "source": [
    "# covariates"
   ]
  },
  {
   "cell_type": "code",
   "execution_count": 4,
   "metadata": {},
   "outputs": [],
   "source": [
    "# load peer factors\n",
    "def read_peer_indiv_list(filename):\n",
    "    with gzip.open(filename, 'rt') as f:\n",
    "        first_l = f.readline()\n",
    "    first_l = first_l.strip().split('\\t')\n",
    "    return first_l[1:]\n",
    "df_peer = pd.read_csv(peer_value_out, header=None)\n",
    "df_peer.columns = [ f'PeerFactor{i}' for i in range(df_peer.shape[1]) ]\n",
    "df_peer_list = pd.DataFrame({'SampleID': read_peer_indiv_list(peer_indiv_list)})\n",
    "df_peer = pd.concat((df_peer_list, df_peer), axis=1)\n",
    "df_peer['SampleID'] = df_peer['SampleID'].astype(str)"
   ]
  },
  {
   "cell_type": "code",
   "execution_count": 5,
   "metadata": {},
   "outputs": [],
   "source": [
    "# load pca pv\n",
    "df_pca = pd.read_csv(pca_out, sep=' ', header=None)\n",
    "del df_pca[0]\n",
    "df_pca.columns = [ 'SampleID' ] + [ f'PCA{i}' for i in range(df_pca.shape[1] - 1) ]\n",
    "df_pca['SampleID'] = df_pca['SampleID'].astype(str)"
   ]
  },
  {
   "cell_type": "code",
   "execution_count": 6,
   "metadata": {},
   "outputs": [],
   "source": [
    "# merge covariates and save\n",
    "df_covar = pd.merge(df_peer, df_pca, left_on='SampleID', right_on='SampleID')\n",
    "if not os.path.exists(covar_out):\n",
    "    df_covar.to_csv(covar_out, compression='gzip', sep='\\t', index=False)"
   ]
  },
  {
   "cell_type": "markdown",
   "metadata": {},
   "source": [
    "# observed expression"
   ]
  },
  {
   "cell_type": "code",
   "execution_count": 7,
   "metadata": {},
   "outputs": [],
   "source": [
    "# load the observed expression\n",
    "obs_expr = pd.read_csv(expression_full_out, compression='gzip', sep='\\t')\n",
    "obs_expr_indivs = obs_expr.columns.tolist()[1:]"
   ]
  },
  {
   "cell_type": "code",
   "execution_count": 8,
   "metadata": {},
   "outputs": [],
   "source": [
    "# load map\n",
    "gene_map = pd.read_csv(gene_list_out, sep='\\t')\n",
    "gene_map = gene_map[~gene_map['ENSEMBL'].isna()]"
   ]
  },
  {
   "cell_type": "code",
   "execution_count": 9,
   "metadata": {},
   "outputs": [],
   "source": [
    "# annotation observed expression\n",
    "obs_expr_annot = pd.merge(obs_expr, gene_map, left_on='probeset_id', right_on='probeset_id', how='inner')"
   ]
  },
  {
   "cell_type": "code",
   "execution_count": 10,
   "metadata": {},
   "outputs": [],
   "source": [
    "# prepare indiv x gene matrix\n",
    "obs_expr_n_x_g = obs_expr_annot[obs_expr_indivs].T.reset_index(drop=True)\n",
    "obs_expr_n_x_g.columns = obs_expr_annot['ENSEMBL'].tolist()\n",
    "obs_expr_n_x_g = pd.concat((pd.DataFrame({'SampleID': obs_expr_indivs}), obs_expr_n_x_g), axis=1)"
   ]
  },
  {
   "cell_type": "code",
   "execution_count": 11,
   "metadata": {},
   "outputs": [],
   "source": [
    "if not os.path.exists(obs_expr_out):\n",
    "    obs_expr_n_x_g.to_csv(obs_expr_out, compression='gzip', index=False, sep='\\t')"
   ]
  }
 ],
 "metadata": {
  "kernelspec": {
   "display_name": "Python 3",
   "language": "python",
   "name": "python3"
  },
  "language_info": {
   "codemirror_mode": {
    "name": "ipython",
    "version": 3
   },
   "file_extension": ".py",
   "mimetype": "text/x-python",
   "name": "python",
   "nbconvert_exporter": "python",
   "pygments_lexer": "ipython3",
   "version": "3.7.6"
  }
 },
 "nbformat": 4,
 "nbformat_minor": 4
}
