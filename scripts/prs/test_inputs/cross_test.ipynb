{
 "cells": [
  {
   "cell_type": "markdown",
   "metadata": {},
   "source": [
    "Note:\n",
    "\n",
    "1. Run `bash test_run.sh` from `../`. \n",
    "2. Now we do the same PRS calculation using plain Python code. (with shortcut)"
   ]
  },
  {
   "cell_type": "code",
   "execution_count": 1,
   "metadata": {},
   "outputs": [
    {
     "name": "stdout",
     "output_type": "stream",
     "text": [
      "2020-04-24 10:06:37 PM  Loading GWAS\n",
      "2020-04-24 10:06:38 PM  gwas_reader: processing 20002_1262.gwas.imputed_v3.both_sexes, 1/2\n",
      "2020-04-24 10:06:38 PM  gwas_reader: processing 20002_1262.gwas.imputed_v3.male, 2/2\n",
      "2020-04-24 10:06:39 PM  Generating variant list\n",
      "2020-04-24 10:06:39 PM  build_var_df: processing 20002_1262.gwas.imputed_v3.both_sexes\n",
      "2020-04-24 10:06:39 PM  build_var_df: processing 20002_1262.gwas.imputed_v3.male\n",
      "2020-04-24 10:06:39 PM  Build BGEN reader\n",
      "2020-04-24 10:06:39 PM  Initialize PRS matrix\n",
      "2020-04-24 10:06:39 PM  Update PRS\n",
      "  0%|                                                     | 0/2 [00:00<?, ?it/s]/vol/bmd/yanyul/miniconda3/envs/haplotype_po/lib/python3.7/site-packages/rpy2/robjects/pandas2ri.py:191: FutureWarning: from_items is deprecated. Please use DataFrame.from_dict(dict(items), ...) instead. DataFrame.from_dict(OrderedDict(items)) may be used to preserve the key order.\n",
      "  res = PandasDataFrame.from_items(items)\n",
      "100%|█████████████████████████████████████████████| 2/2 [00:02<00:00,  1.00s/it]\n",
      "2020-04-24 10:06:41 PM  Save PRS\n",
      "2020-04-24 10:07:48 PM  2020-04-24 22:07:48.030905 PRS file complete!\n"
     ]
    }
   ],
   "source": [
    "! bash -c \"if [[ -f test_out.h5 ]]; then rm test_out.h5; fi\"\n",
    "! cd ../; bash test_inputs/test_run.sh"
   ]
  },
  {
   "cell_type": "code",
   "execution_count": 2,
   "metadata": {},
   "outputs": [],
   "source": [
    "import pandas as pd\n",
    "import numpy as np\n",
    "from rpy2.robjects.packages import importr\n",
    "from rpy2.robjects import pandas2ri\n",
    "pandas2ri.activate()\n",
    "rbgen = importr('rbgen')"
   ]
  },
  {
   "cell_type": "code",
   "execution_count": 3,
   "metadata": {},
   "outputs": [],
   "source": [
    "pvals = [1e-5,0.001,0.1,1]\n",
    "CHR = 16\n",
    "bgen_path = f'/vol/bmd/meliao/data/haplotype/hap/ukb_hap_chr{CHR}_v2.bgen'\n",
    "bgi_path = f'/vol/bmd/meliao/data/haplotype/hap_bgi/ukb_hap_chr{CHR}_v2.bgen.bgi'\n",
    "\n",
    "def query(pos):\n",
    "    query = pd.DataFrame({\n",
    "        'chromosome': [''],\n",
    "        'start': [int(pos)], # int(gwas_df.pos[i])],\n",
    "        'end': [int(pos)], # [int(gwas_df.pos[i])]\n",
    "    })\n",
    "    cached_data = rbgen.bgen_load(\n",
    "        bgen_path,\n",
    "        index_filename=bgi_path,\n",
    "        ranges=query, \n",
    "        max_entries_per_sample=4\n",
    "    )\n",
    "    all_variants = pandas2ri.ri2py(cached_data[0])\n",
    "    if all_variants.shape[0] != 1:\n",
    "        raise ValueError('Extract no or more than 1 variant. Cannot handle.')\n",
    "    all_probs = pandas2ri.ri2py(cached_data[4])\n",
    "    return all_variants, all_probs\n",
    "\n",
    "def compute_prs(gwas, clump):\n",
    "    gwas_df = pd.read_csv(gwas, header=0, sep=' ')\n",
    "    gwas_clump = pd.read_csv(clump, header=None)\n",
    "    gwas_df = gwas_df[ gwas_df['variant'].isin(gwas_clump[0]) ].reset_index()\n",
    "    gwas_df['pos'] = gwas_df['variant'].map(lambda x: x.split(':')[1])\n",
    "    gwas_df['nea'] = gwas_df['variant'].map(lambda x: x.split(':')[2])\n",
    "    gwas_df['ea'] = gwas_df['variant'].map(lambda x: x.split(':')[3])\n",
    "    prs_mat = None\n",
    "    for i in range(gwas_df.shape[0]):\n",
    "        all_variants, all_probs = query(gwas_df.pos[i])\n",
    "        if all_variants.allele0[0] == gwas_df.nea[i] and all_variants.allele1[0] == gwas_df.ea[i]:\n",
    "            dosage = all_probs[0, :, :]\n",
    "        elif all_variants.allele1[0] == gwas_df.nea[i] and all_variants.allele0[0] == gwas_df.ea[i]:\n",
    "            print('flip')\n",
    "            dosage = 1 - all_probs[0, :, :]\n",
    "        else:\n",
    "            raise ValueError('Alleles does not match.')\n",
    "        if prs_mat is None:\n",
    "            prs_mat = np.zeros((dosage.shape[0], len(pvals), 2))\n",
    "#             print('init', prs_mat.sum())\n",
    "        h1 = dosage[:, 1]\n",
    "        h2 = dosage[:, 3]\n",
    "        for pi in range(len(pvals)):\n",
    "            if pvals[pi] > gwas_df.pval[i]:\n",
    "#                 print(gwas_df.beta[i])\n",
    "                prs_mat[:, pi, 0] += h1 * gwas_df.beta[i]\n",
    "                prs_mat[:, pi, 1] += h2 * gwas_df.beta[i]\n",
    "    return prs_mat"
   ]
  },
  {
   "cell_type": "code",
   "execution_count": 4,
   "metadata": {},
   "outputs": [
    {
     "name": "stderr",
     "output_type": "stream",
     "text": [
      "/vol/bmd/yanyul/miniconda3/envs/haplotype_po/lib/python3.7/site-packages/rpy2/robjects/pandas2ri.py:191: FutureWarning: from_items is deprecated. Please use DataFrame.from_dict(dict(items), ...) instead. DataFrame.from_dict(OrderedDict(items)) may be used to preserve the key order.\n",
      "  res = PandasDataFrame.from_items(items)\n"
     ]
    }
   ],
   "source": [
    "prs1 = compute_prs('test_gwas1.txt', 'test_gwas1.clump')\n",
    "prs2 = compute_prs('test_gwas2.txt', 'test_gwas2.clump')"
   ]
  },
  {
   "cell_type": "code",
   "execution_count": 5,
   "metadata": {},
   "outputs": [],
   "source": [
    "import h5py\n",
    "f = h5py.File('test_out.h5', 'r')\n",
    "prs = f['prs'][:]\n",
    "traits = f['traits'][:]\n",
    "f.close()\n",
    "oprs1 = np.einsum('ijk->kji', prs[:,0,:,:])\n",
    "oprs2 = np.einsum('ijk->kji', prs[:,1,:,:])\n"
   ]
  },
  {
   "cell_type": "code",
   "execution_count": 6,
   "metadata": {},
   "outputs": [
    {
     "data": {
      "text/plain": [
       "array([b'20002_1262.gwas.imputed_v3.both_sexes',\n",
       "       b'20002_1262.gwas.imputed_v3.male'], dtype=object)"
      ]
     },
     "execution_count": 6,
     "metadata": {},
     "output_type": "execute_result"
    }
   ],
   "source": [
    "traits"
   ]
  },
  {
   "cell_type": "code",
   "execution_count": 7,
   "metadata": {},
   "outputs": [],
   "source": [
    "np.testing.assert_almost_equal(oprs1, prs1, decimal=6)\n",
    "np.testing.assert_almost_equal(oprs2, prs2, decimal=6)"
   ]
  }
 ],
 "metadata": {
  "kernelspec": {
   "display_name": "Python 3",
   "language": "python",
   "name": "python3"
  },
  "language_info": {
   "codemirror_mode": {
    "name": "ipython",
    "version": 3
   },
   "file_extension": ".py",
   "mimetype": "text/x-python",
   "name": "python",
   "nbconvert_exporter": "python",
   "pygments_lexer": "ipython3",
   "version": "3.7.6"
  }
 },
 "nbformat": 4,
 "nbformat_minor": 4
}
